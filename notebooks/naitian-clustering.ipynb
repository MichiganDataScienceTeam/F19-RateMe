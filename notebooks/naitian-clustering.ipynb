{
 "cells": [
  {
   "cell_type": "code",
   "execution_count": 27,
   "metadata": {},
   "outputs": [],
   "source": [
    "import array\n",
    "\n",
    "import ahocorasick\n",
    "import pandas as pd\n",
    "import numpy as np\n",
    "from scipy.sparse import csr_matrix\n",
    "from sklearn.utils.extmath import randomized_svd\n",
    "\n",
    "import matplotlib.pyplot as plt\n",
    "\n",
    "%matplotlib notebook"
   ]
  },
  {
   "cell_type": "code",
   "execution_count": 77,
   "metadata": {},
   "outputs": [
    {
     "name": "stderr",
     "output_type": "stream",
     "text": [
      "/Users/naitian/Documents/Projects/MDST/rateme/env/lib/python3.7/site-packages/IPython/core/interactiveshell.py:3058: DtypeWarning: Columns (4) have mixed types. Specify dtype option on import or set low_memory=False.\n",
      "  interactivity=interactivity, compiler=compiler, result=result)\n"
     ]
    }
   ],
   "source": [
    "comments = pd.read_csv(\"../data/all_comments.csv\", index_col=0)\n",
    "posts = pd.read_csv(\"../data/all_posts.csv\", index_col=0)"
   ]
  },
  {
   "cell_type": "code",
   "execution_count": 86,
   "metadata": {},
   "outputs": [],
   "source": [
    "comments.body = comments.body.fillna(\"\")\n",
    "comments = comments[comments.clean_link_id.isin(set(posts.index))]"
   ]
  },
  {
   "cell_type": "code",
   "execution_count": 180,
   "metadata": {},
   "outputs": [],
   "source": [
    "from collections import defaultdict\n",
    "from sklearn.preprocessing import normalize\n",
    "from sklearn.feature_extraction.text import TfidfTransformer, TfidfVectorizer\n",
    "\n",
    "\n",
    "def get_phrases(phrase_file, min_count=0):\n",
    "#     vocab = {}\n",
    "    i = 0\n",
    "    vocab = ahocorasick.Automaton()\n",
    "    phrases = []\n",
    "    with open(phrase_file, \"r\") as file:\n",
    "        for line in file:\n",
    "            phrase, count = line.split(\"\\t\")\n",
    "            if int(count) >= min_count:\n",
    "                vocab.add_word(phrase, i)\n",
    "                phrases.append(phrase)\n",
    "                i += 1\n",
    "    vocab.make_automaton()\n",
    "    return vocab, phrases\n",
    "\n",
    "def read_vocab(corpus_file, min_count=5):\n",
    "    corpus = []\n",
    "    phrase_count = defaultdict(int)\n",
    "    phrases_idx = dict()\n",
    "    i = 0\n",
    "    with open(corpus_file, \"r\") as file:\n",
    "        for line in file:\n",
    "            phrases = line.strip().split(\",\")\n",
    "            for phrase in phrases:\n",
    "                if phrase not in phrases_idx:\n",
    "                    phrase_count[phrase] += 1\n",
    "                    if phrase_count[phrase] >= min_count:\n",
    "                        phrases_idx[phrase] = i\n",
    "                        i += 1\n",
    "            corpus.append(phrases)\n",
    "        return corpus, phrases_idx\n",
    "\n",
    "def read_posts(corpus_file, data_file):\n",
    "    posts = pd.read_csv(data_file, index_col=0)\n",
    "    id_to_post_map = dict()\n",
    "    with open(corpus_file, \"r\") as file:\n",
    "        for line, p_id in zip(file, posts.index):\n",
    "            phrases = line.strip().split(\",\")\n",
    "            id_to_post_map[p_id] = phrases\n",
    "    return id_to_post_map\n",
    "\n",
    "def naive_tokenize(corpus, idx_map):\n",
    "    X = np.zeros((len(corpus), len(idx_map)))\n",
    "    for i, phrases in enumerate(corpus):\n",
    "        for phrase in phrases:\n",
    "            try:\n",
    "                X[i][idx_map[phrase]] += 1\n",
    "            except KeyError:\n",
    "                continue\n",
    "    return X\n",
    "\n",
    "def tokenize_from_series(df, df_index, idx_map):\n",
    "    indices = []\n",
    "    indptr = [0]\n",
    "    data = array.array(str(\"i\"))\n",
    "    for i, index in enumerate(df_index):\n",
    "        if i % 100000 == 0:\n",
    "            print(i)\n",
    "        doc = df.loc[index]\n",
    "        feature_idx_map = defaultdict(int)\n",
    "        try:\n",
    "            for phrase, idx in vocab.iter(doc):\n",
    "                try:\n",
    "                    feature_idx_map[idx] += 1\n",
    "                except KeyError:\n",
    "                    continue\n",
    "                except Exception as e:\n",
    "                    print(doc)\n",
    "                    raise e\n",
    "        except Exception as e:\n",
    "            print(doc)\n",
    "            raise e\n",
    "        indices.extend(feature_idx_map.keys())\n",
    "        data.extend(feature_idx_map.values())\n",
    "        indptr.append(len(indices))\n",
    "        \n",
    "    indices = np.asarray(indices, dtype=np.int64)\n",
    "    indptr = np.asarray(indptr, dtype=np.int64)\n",
    "    data = np.frombuffer(data, dtype=np.intc)\n",
    "\n",
    "    X = csr_matrix((data, indices, indptr),\n",
    "                    shape=(len(indptr) - 1, len(idx_map)),\n",
    "                    dtype=np.int32)\n",
    "    return X\n",
    "\n",
    "def tokenize(corpus, idx_map):\n",
    "    indices = []\n",
    "    indptr = [0]\n",
    "    data = array.array(str(\"i\"))\n",
    "    for i, phrases in enumerate(corpus):\n",
    "        if i % 1000 == 0:\n",
    "            print(i)\n",
    "        feature_idx_map = defaultdict(int)\n",
    "        for phrase in phrases:\n",
    "            try:\n",
    "                idx = idx_map[phrase]\n",
    "                feature_idx_map[idx] += 1\n",
    "            except KeyError:\n",
    "                continue\n",
    "        indices.extend(feature_idx_map.keys())\n",
    "        data.extend(feature_idx_map.values())\n",
    "        indptr.append(len(indices))\n",
    "        \n",
    "    indices = np.asarray(indices, dtype=np.int64)\n",
    "    indptr = np.asarray(indptr, dtype=np.int64)\n",
    "    data = np.frombuffer(data, dtype=np.intc)\n",
    "\n",
    "    X = csr_matrix((data, indices, indptr),\n",
    "                    shape=(len(indptr) - 1, len(idx_map)),\n",
    "                    dtype=np.int32)\n",
    "    return X\n",
    "\n",
    "tfidf = TfidfTransformer()"
   ]
  },
  {
   "cell_type": "code",
   "execution_count": 111,
   "metadata": {
    "scrolled": true
   },
   "outputs": [
    {
     "name": "stdout",
     "output_type": "stream",
     "text": [
      "12957\n",
      "0\n",
      "100000\n",
      "200000\n",
      "300000\n",
      "400000\n",
      "500000\n",
      "600000\n",
      "700000\n",
      "800000\n",
      "900000\n",
      "1000000\n",
      "1100000\n",
      "1200000\n",
      "1300000\n",
      "1400000\n",
      "1500000\n",
      "1600000\n",
      "1700000\n"
     ]
    }
   ],
   "source": [
    "vocab, c_phrases = get_phrases(\"../data/phrases_comments.txt\")\n",
    "print(len(vocab))\n",
    "tokens = tokenize_from_series(comments.body, comments.index, vocab)\n",
    "comment_vectors = tfidf.fit(tokens).transform(tokens)"
   ]
  },
  {
   "cell_type": "code",
   "execution_count": 112,
   "metadata": {},
   "outputs": [
    {
     "name": "stdout",
     "output_type": "stream",
     "text": [
      "0\n",
      "100000\n",
      "200000\n",
      "300000\n",
      "400000\n",
      "500000\n",
      "600000\n",
      "700000\n",
      "800000\n",
      "900000\n",
      "1000000\n",
      "1100000\n",
      "1200000\n",
      "1300000\n",
      "1400000\n",
      "1500000\n",
      "1600000\n",
      "1700000\n"
     ]
    }
   ],
   "source": [
    "vocab, p_phrases = get_phrases(\"../data/phrases_posts.txt\")\n",
    "tokens = tokenize_from_series(posts.title, comments.clean_link_id, vocab)\n",
    "post_vectors = tfidf.fit(tokens).transform(tokens)"
   ]
  },
  {
   "cell_type": "code",
   "execution_count": 90,
   "metadata": {},
   "outputs": [],
   "source": [
    "from scipy.sparse import linalg"
   ]
  },
  {
   "cell_type": "code",
   "execution_count": 113,
   "metadata": {},
   "outputs": [],
   "source": [
    "U, Sigma, V_T = linalg.svds(comment_vectors.transpose(), k=50)"
   ]
  },
  {
   "cell_type": "code",
   "execution_count": 92,
   "metadata": {},
   "outputs": [
    {
     "data": {
      "text/plain": [
       "(1710540, 12957)"
      ]
     },
     "execution_count": 92,
     "metadata": {},
     "output_type": "execute_result"
    }
   ],
   "source": [
    "V_T."
   ]
  },
  {
   "cell_type": "code",
   "execution_count": 100,
   "metadata": {},
   "outputs": [
    {
     "data": {
      "text/plain": [
       "(12957, 50)"
      ]
     },
     "execution_count": 100,
     "metadata": {},
     "output_type": "execute_result"
    }
   ],
   "source": [
    "(post_vectors.transpose() * V_T.transpose() * (1 / Sigma)).shape"
   ]
  },
  {
   "cell_type": "code",
   "execution_count": 114,
   "metadata": {},
   "outputs": [],
   "source": [
    "phrases_in_latent_space = (post_vectors.transpose() * V_T.transpose() * (1 / Sigma))"
   ]
  },
  {
   "cell_type": "code",
   "execution_count": 188,
   "metadata": {},
   "outputs": [],
   "source": [
    "from sklearn.cluster import KMeans\n",
    "\n",
    "kmeans = KMeans(n_clusters=20)\n",
    "labels = kmeans.fit_predict(phrases_in_latent_space)"
   ]
  },
  {
   "cell_type": "code",
   "execution_count": 192,
   "metadata": {},
   "outputs": [
    {
     "data": {
      "text/plain": [
       "(array([ 0,  1,  2,  3,  4,  5,  6,  7,  8,  9, 10, 11, 12, 13, 14, 15, 16,\n",
       "        17, 18, 19], dtype=int32),\n",
       " array([  20, 1843,    1,    1,    1,    1,    5,    1,    2,    4,   10,\n",
       "           3,   77,    1,    1,    1,  305,   12,    2,   23]))"
      ]
     },
     "execution_count": 192,
     "metadata": {},
     "output_type": "execute_result"
    }
   ],
   "source": [
    "np.unique(labels, return_counts=True)"
   ]
  },
  {
   "cell_type": "code",
   "execution_count": 191,
   "metadata": {},
   "outputs": [
    {
     "name": "stdout",
     "output_type": "stream",
     "text": [
      "['growing my hair' 'shaved my head' 'long or short hair'\n",
      " 'short or long hair' 'longer hair' 'hair or long' 'hair length'\n",
      " 'Short hair or long hair' 'shorter hair' 'long hair or short'\n",
      " 'chopped my hair' 'recently cut my hair' 'hair or short' 'long or short'\n",
      " 'short or long' 'pixie cut' 'Short hair or long' 'recently cut'\n",
      " 'hair or short hair' 'hair or long hair']\n",
      "['lost lbs' 'https   imgur' 'http   imgur' ...\n",
      " 'lost about  pounds  so I ve' 'advice is appreciated    have a great'\n",
      " 'Curious how I m viewed to people']\n",
      "['honest opinions']\n",
      "['honest rating']\n",
      "['long hair']\n",
      "['hair color']\n",
      "['losing weight' 'weight loss' 'Recently lost' 've lost' 'lot of weight']\n",
      "['facial hair']\n",
      "['constructive criticism' 'st time']\n",
      "['big nose' 'hate my nose' 'insecure about my nose'\n",
      " 'conscious about my nose']\n",
      "['Rate me honestly' 'curious what people' 'Rate my face' 'brutal honesty'\n",
      " 'wondering where I stand' 'low self esteem' 've been told' 'months ago'\n",
      " 'improve my appearance' 'st pic']\n",
      "['brutally honest' 'honest feedback' 'irst time']\n",
      "['curious where I stand' 'Rate me pls' 'honesty appreciated'\n",
      " 'curious what you guys' 'advice appreciated' 'feedback appreciated'\n",
      " 'advice on how to improve' 'bored and curious' 'feeling insecure'\n",
      " 'good or bad' 'Hey guys' 'Genuinely curious' 'idea where I stand'\n",
      " 'Curiosity killed the cat' 'feeling pretty' 'completely honest'\n",
      " 'honest answers' 'give this a shot' 'verification pic'\n",
      " 'open to suggestions' 'profile pic' 'objective opinion' 'called ugly'\n",
      " 'Honesty is the best policy' 'verification photo' 'constructive feedback'\n",
      " 'dating apps' 'young for my age' 'confidence boost' 'wear makeup'\n",
      " 'face and body' 'Give me your honest' 'hard time' 'feeling a bit'\n",
      " 've always wondered' 'body dysmorphia' 've been working'\n",
      " 'pretty insecure' 'opinions and advice' 'opinions appreciated'\n",
      " 'super curious' 'Hit me with your best shot' 'give advice' 'bit insecure'\n",
      " 'dating scene' 'body pics' 'opinions and suggestions' 'time poster'\n",
      " 'reddit thinks' 'mixed reviews' 'year old female' 've always wanted'\n",
      " 'ugly duckling' 'fall on the scale' 'body shot' 'criticism appreciated'\n",
      " 'plastic surgery' 'mixed opinions' 'pretty average' 'people perceive'\n",
      " 'dating world' 'physical appearance' 'finally starting' 'll give'\n",
      " 'Curiosity killed' 'people view' 've changed' 'full body'\n",
      " 've always struggled' 've made' 'world sees' 'long term' 'nose ring'\n",
      " 'killed the cat' 'wearing make' 'people think of my appearance'\n",
      " 'term relationship']\n",
      "['cut my hair']\n",
      "['nose job']\n",
      "['short hair']\n",
      "['Give me your honest opinion' 'Rate me plz' 'Beard or no beard'\n",
      " 'Rate me on a scale' 'year old male' 'guess my ethnicity'\n",
      " 'give me an honest rating' 'curious what strangers' 'pls rate'\n",
      " 'Glasses or no glasses' 'feeling confident' 'feeling good' 'im curious'\n",
      " 'tips appreciated' 'started working' 'grow a beard' 'low confidence'\n",
      " 'constructive criticism appreciated' 'Bored at work'\n",
      " 'wanna know where I stand' 'suggestions appreciated' 'kinda curious'\n",
      " 'Newly single' 'Hey Reddit' 'gained weight' 'guess my age'\n",
      " 'Honest opinions appreciated' 'feel ugly' 'wondering what you guys'\n",
      " 'confidence issues' 'changed my hair' 'hitting the gym'\n",
      " 'matches on tinder' 'long term relationship' 'plz rate' 'yay or nay'\n",
      " 'love some feedback' 'college student' 'hear your opinions'\n",
      " 'honest opinions and advice' 'back into the dating'\n",
      " 'Rate my face and body' 'long relationship' 'Feel free to rate'\n",
      " 'wanted to know what people' 'give feedback' 'pics in comments'\n",
      " 'comments appreciated' 'recently started' 'profile picture'\n",
      " 'give me tips' 'find me attractive' 'found this subreddit'\n",
      " 'social anxiety' 'luck dating' 'feed back' 'weeks ago' 'bad quality'\n",
      " 'wanna know what people' 'taking pictures' 'feeling self conscious'\n",
      " 'female opinions' 'dating sites' 'real life' 'make a post'\n",
      " 've always felt' 'pls be honest' 'tinder matches' 'kinda insecure'\n",
      " 'reality check' 'guess my nationality' 'honest pls' 'clean shaven'\n",
      " 'Brutal honesty appreciated' 'strangers on the internet'\n",
      " 'luck with girls' 've heard' 'love some honest opinions'\n",
      " 've always been insecure' 'idea what people' 'days ago' 'Recently dumped'\n",
      " 'jaw surgery' 'hurt my feelings' 'curious to hear' 'hair grow'\n",
      " 'back into the dating scene' 'internet strangers' 'good picture'\n",
      " 'Half Asian' 'grew a beard' 'hear your thoughts' 'Rate meee'\n",
      " 'strangers opinions' 'Lets hear' 'good day' 'shirtless pic'\n",
      " 'complete honesty' 'figure out where I stand' 'guys and gals'\n",
      " 'Heading off to college' 'Verification in comments' 'body and face'\n",
      " 'Recently turned' 'wear glasses' 'sugar coat' 'grew my hair'\n",
      " 'previous post' 'curly hair' 'insecure about my appearance'\n",
      " 'nervous to post' 'facial features' 'hair and beard'\n",
      " 'lost a bunch of weight' 'pretty self conscious' 'give suggestions'\n",
      " 'loose weight' 'numerical rating' 'hear what people' 'honest review'\n",
      " 'friends and family' 'mixed race' 'couple months'\n",
      " 'process of losing weight' 'worst features' 'luck with the ladies'\n",
      " 'pretty bad' 'dye my hair' 'pretty good' 'dating game' 'side profile'\n",
      " 'pic included' 'super self conscious' 'people thought' 'acne scars'\n",
      " 'feeling pretty good' 'luck with women' 'totally honest' 'recent pics'\n",
      " 'Asian girl' 'year of college' 'thick skin' 'internet thinks'\n",
      " 'super insecure' 'dating profile' 'Long time lurker'\n",
      " 've never had a girlfriend' 'lazy eye' 'Simply curious' 'ft tall'\n",
      " 'half white' 'blonde hair' 'considered attractive' 'entire life'\n",
      " 'decided to post' 'rate mee' 'red hair' 'finally decided' 'good idea'\n",
      " 'Bonus points' 'bottom left' 'socially awkward' 'opinions from strangers'\n",
      " 'big forehead' 'changed a lot' 'starting to feel' 'random people'\n",
      " 'fat kid' 'added more pics' 'told to post' 'Recently broke'\n",
      " 'advice would be great' 'face shape' 'bad breakup'\n",
      " 'physical attractiveness' 've been called' 'weight gain' 'social media'\n",
      " 'image issues' 'lost a ton of weight' 'mixed signals'\n",
      " 'room for improvement' 'constructive advice' 'cut my hair short'\n",
      " 'wanna hear' 'love some honest feedback' 'criticism welcomed'\n",
      " 'objective feedback' 'makeup pics' 'eating disorder' 'pretty ugly'\n",
      " 'hate my smile' 'kind of person' 'buzz cut' 'world thinks' 'messy hair'\n",
      " 'love constructive criticism' 've changed a lot' 'days I feel'\n",
      " 'told I look young' 've been feeling' 've always been self conscious'\n",
      " 'Good morning' 'criticism and advice' 'made fun' 'body type'\n",
      " 'asymmetrical face' 've always wondered what people' 'middle school'\n",
      " 'changed a bit' 'lbs lost' 'natural hair' 'general consensus'\n",
      " 'good thing' 'bad photo' 'fat and ugly' 'bad luck' 'kissed a girl'\n",
      " 'dark hair' 'female attention' 'brown hair' 'hard truth' 'bad thing'\n",
      " 'style advice' 'bad break' 'throwaway account' 'black hair' 'small town'\n",
      " 'septum piercing' 'im cute' 'weird face' 'camera quality' 've put'\n",
      " 'yr relationship' 've been single' 'dating pool' 'decided to give'\n",
      " 've received' 'extremely insecure' 'courage to post' 'red head'\n",
      " 'cute girl' 'rough time' 'white girl' 'negative feedback'\n",
      " 'Single for the first time' 'abusive relationship' 'college next year'\n",
      " 'asked to post' 'stand a chance' 'll probably regret' 'newest to oldest'\n",
      " 'style suits' 'lbs this year' 'pics inside' 'hair blonde' 'rough break'\n",
      " 've gained' 'minimal makeup' 'chubby cheeks' 'body image' 'imgur link'\n",
      " 'left eye' 'cup of tea' 'extremely self conscious' 'facial structure'\n",
      " 'full body shot' 'mental health' 'selfie game' 'working on losing'\n",
      " 'blue hair' 'hair change' 'dying my hair' 'cosmetic surgery' 'mom tells'\n",
      " 'clean shave' 'big fan' 'conventionally attractive'\n",
      " 'thinking of changing' 'shoulder length' 'biggest insecurity'\n",
      " 'tips would be great' 'shorter or longer hair' 'info in comments'\n",
      " 'oldest to newest' 'close friends' 'Gained some weight recently'\n",
      " 'awhile ago' 'straight doc' 'straight hair' 'pretty low' 'lot of mixed'\n",
      " 'hair dark' 'lot of attention' 'process of losing' 'lost a ton'\n",
      " 'ready to start' 'hair red' 'pierced my nose' 'lot of weight recently'\n",
      " 'shorter or longer' 'lost a bunch' 'love some constructive' 'time lurker'\n",
      " 'enter the dating']\n",
      "['Rate my body' 'lost some weight' 'past year' 'lost a lot of weight'\n",
      " 'weight recently' 'bit of weight' 'weight loss journey' 'goal weight'\n",
      " 'ton of weight' 'lost a lot' 'bunch of weight' 'loss journey']\n",
      "['dyed my hair' 'hair colour']\n",
      "['time posting' 'wondering what people' 'Give it to me straight'\n",
      " 'tips to improve' 'suggestions for improvement' 'years ago'\n",
      " 'Recently single' 'unbiased opinions' 'baby face' 'feel free'\n",
      " 'ways to improve' 'hair cut' 'high school' 'online dating'\n",
      " 'year relationship' 'hair style' 'start dating' 'greatly appreciated'\n",
      " 'long time' 'esteem issues' 'love to hear' 'hold back' 've posted']\n"
     ]
    }
   ],
   "source": [
    "for label in np.unique(labels):\n",
    "    print(np.array(v_phrases)[labels == label])"
   ]
  },
  {
   "cell_type": "code",
   "execution_count": 183,
   "metadata": {},
   "outputs": [
    {
     "ename": "ValueError",
     "evalue": "Item wrong length 2314 instead of 1710540.",
     "output_type": "error",
     "traceback": [
      "\u001b[0;31m---------------------------------------------------------------------------\u001b[0m",
      "\u001b[0;31mValueError\u001b[0m                                Traceback (most recent call last)",
      "\u001b[0;32m<ipython-input-183-83c3a29f0bee>\u001b[0m in \u001b[0;36m<module>\u001b[0;34m\u001b[0m\n\u001b[0;32m----> 1\u001b[0;31m \u001b[0mcomments\u001b[0m\u001b[0;34m[\u001b[0m\u001b[0mlabels\u001b[0m \u001b[0;34m==\u001b[0m \u001b[0;36m10\u001b[0m\u001b[0;34m]\u001b[0m\u001b[0;34m.\u001b[0m\u001b[0mbody\u001b[0m\u001b[0;34m\u001b[0m\u001b[0;34m\u001b[0m\u001b[0m\n\u001b[0m",
      "\u001b[0;32m~/Documents/Projects/MDST/rateme/env/lib/python3.7/site-packages/pandas/core/frame.py\u001b[0m in \u001b[0;36m__getitem__\u001b[0;34m(self, key)\u001b[0m\n\u001b[1;32m   2969\u001b[0m         \u001b[0;31m# Do we have a (boolean) 1d indexer?\u001b[0m\u001b[0;34m\u001b[0m\u001b[0;34m\u001b[0m\u001b[0;34m\u001b[0m\u001b[0m\n\u001b[1;32m   2970\u001b[0m         \u001b[0;32mif\u001b[0m \u001b[0mcom\u001b[0m\u001b[0;34m.\u001b[0m\u001b[0mis_bool_indexer\u001b[0m\u001b[0;34m(\u001b[0m\u001b[0mkey\u001b[0m\u001b[0;34m)\u001b[0m\u001b[0;34m:\u001b[0m\u001b[0;34m\u001b[0m\u001b[0;34m\u001b[0m\u001b[0m\n\u001b[0;32m-> 2971\u001b[0;31m             \u001b[0;32mreturn\u001b[0m \u001b[0mself\u001b[0m\u001b[0;34m.\u001b[0m\u001b[0m_getitem_bool_array\u001b[0m\u001b[0;34m(\u001b[0m\u001b[0mkey\u001b[0m\u001b[0;34m)\u001b[0m\u001b[0;34m\u001b[0m\u001b[0;34m\u001b[0m\u001b[0m\n\u001b[0m\u001b[1;32m   2972\u001b[0m \u001b[0;34m\u001b[0m\u001b[0m\n\u001b[1;32m   2973\u001b[0m         \u001b[0;31m# We are left with two options: a single key, and a collection of keys,\u001b[0m\u001b[0;34m\u001b[0m\u001b[0;34m\u001b[0m\u001b[0;34m\u001b[0m\u001b[0m\n",
      "\u001b[0;32m~/Documents/Projects/MDST/rateme/env/lib/python3.7/site-packages/pandas/core/frame.py\u001b[0m in \u001b[0;36m_getitem_bool_array\u001b[0;34m(self, key)\u001b[0m\n\u001b[1;32m   3016\u001b[0m         \u001b[0;32melif\u001b[0m \u001b[0mlen\u001b[0m\u001b[0;34m(\u001b[0m\u001b[0mkey\u001b[0m\u001b[0;34m)\u001b[0m \u001b[0;34m!=\u001b[0m \u001b[0mlen\u001b[0m\u001b[0;34m(\u001b[0m\u001b[0mself\u001b[0m\u001b[0;34m.\u001b[0m\u001b[0mindex\u001b[0m\u001b[0;34m)\u001b[0m\u001b[0;34m:\u001b[0m\u001b[0;34m\u001b[0m\u001b[0;34m\u001b[0m\u001b[0m\n\u001b[1;32m   3017\u001b[0m             raise ValueError(\n\u001b[0;32m-> 3018\u001b[0;31m                 \u001b[0;34m\"Item wrong length %d instead of %d.\"\u001b[0m \u001b[0;34m%\u001b[0m \u001b[0;34m(\u001b[0m\u001b[0mlen\u001b[0m\u001b[0;34m(\u001b[0m\u001b[0mkey\u001b[0m\u001b[0;34m)\u001b[0m\u001b[0;34m,\u001b[0m \u001b[0mlen\u001b[0m\u001b[0;34m(\u001b[0m\u001b[0mself\u001b[0m\u001b[0;34m.\u001b[0m\u001b[0mindex\u001b[0m\u001b[0;34m)\u001b[0m\u001b[0;34m)\u001b[0m\u001b[0;34m\u001b[0m\u001b[0;34m\u001b[0m\u001b[0m\n\u001b[0m\u001b[1;32m   3019\u001b[0m             )\n\u001b[1;32m   3020\u001b[0m \u001b[0;34m\u001b[0m\u001b[0m\n",
      "\u001b[0;31mValueError\u001b[0m: Item wrong length 2314 instead of 1710540."
     ]
    }
   ],
   "source": [
    "comments[labels == 10].body"
   ]
  },
  {
   "cell_type": "code",
   "execution_count": 183,
   "metadata": {
    "collapsed": true
   },
   "outputs": [
    {
     "name": "stdout",
     "output_type": "stream",
     "text": [
      "5\n",
      "-46.028562853087294\n",
      "6\n",
      "-45.04990211021772\n",
      "7\n",
      "-44.07115425060971\n",
      "8\n",
      "-43.07751394031114\n",
      "9\n",
      "-42.128830587121584\n",
      "10\n",
      "-41.18767182813366\n",
      "11\n",
      "-40.23865840562574\n",
      "12\n",
      "-39.290364199009595\n",
      "13\n",
      "-38.2757569028726\n",
      "14\n",
      "-37.35936666447411\n",
      "15\n",
      "-36.37540518346881\n",
      "16\n",
      "-35.452562755410135\n",
      "17\n",
      "-34.485372818072264\n",
      "18\n",
      "-33.51173266768564\n",
      "19\n",
      "-32.550959565772395\n",
      "20\n",
      "-31.608989378560263\n",
      "21\n",
      "-30.667570615721303\n",
      "22\n",
      "-29.699075764424325\n",
      "23\n",
      "-28.728578005312656\n",
      "24\n",
      "-27.814601370338508\n"
     ]
    }
   ],
   "source": [
    "from sklearn.cluster import KMeans\n",
    "\n",
    "k = []\n",
    "scores = []\n",
    "models = []\n",
    "for i in range(5, 25):\n",
    "    kmeans = KMeans(n_clusters=i)\n",
    "    kmeans.fit(U\n",
    "    k.append(i)\n",
    "    scores.append(kmeans.score(V_T))\n",
    "    print(k[-1])\n",
    "    print(scores[-1])\n",
    "    models.append(kmeans)"
   ]
  },
  {
   "cell_type": "code",
   "execution_count": 110,
   "metadata": {},
   "outputs": [
    {
     "data": {
      "text/plain": [
       "(218000, 11)"
      ]
     },
     "execution_count": 110,
     "metadata": {},
     "output_type": "execute_result"
    }
   ],
   "source": [
    "posts.shape"
   ]
  },
  {
   "cell_type": "code",
   "execution_count": 188,
   "metadata": {},
   "outputs": [
    {
     "data": {
      "image/png": "[encoded data removed]",
      "text/plain": [
       "<Figure size 432x288 with 1 Axes>"
      ]
     },
     "metadata": {
      "needs_background": "light"
     },
     "output_type": "display_data"
    }
   ],
   "source": [
    "plt.figure()\n",
    "plt.scatter(k, scores)\n",
    "plt.show()"
   ]
  },
  {
   "cell_type": "code",
   "execution_count": 174,
   "metadata": {},
   "outputs": [
    {
     "data": {
      "text/plain": [
       "(array([ 0,  1,  2,  3,  4,  5,  6,  7,  8,  9, 10, 11, 12, 13, 14, 15, 16,\n",
       "        17, 18, 19], dtype=int32),\n",
       " array([211419,    365,    257,    456,    321,    186,    677,    206,\n",
       "           376,    342,    631,    181,    192,    257,    233,    214,\n",
       "           206,    245,    172,   1064]))"
      ]
     },
     "execution_count": 174,
     "metadata": {},
     "output_type": "execute_result"
    }
   ],
   "source": [
    "np.unique(labels, return_counts=True)"
   ]
  },
  {
   "cell_type": "code",
   "execution_count": 182,
   "metadata": {},
   "outputs": [
    {
     "ename": "ValueError",
     "evalue": "Item wrong length 2314 instead of 217586.",
     "output_type": "error",
     "traceback": [
      "\u001b[0;31m---------------------------------------------------------------------------\u001b[0m",
      "\u001b[0;31mValueError\u001b[0m                                Traceback (most recent call last)",
      "\u001b[0;32m<ipython-input-182-ae60fbdfdc37>\u001b[0m in \u001b[0;36m<module>\u001b[0;34m\u001b[0m\n\u001b[0;32m----> 1\u001b[0;31m \u001b[0mposts\u001b[0m\u001b[0;34m[\u001b[0m\u001b[0mlabels\u001b[0m \u001b[0;34m==\u001b[0m \u001b[0;36m19\u001b[0m\u001b[0;34m]\u001b[0m\u001b[0;34m.\u001b[0m\u001b[0mtitle\u001b[0m\u001b[0;34m\u001b[0m\u001b[0;34m\u001b[0m\u001b[0m\n\u001b[0m",
      "\u001b[0;32m~/Documents/Projects/MDST/rateme/env/lib/python3.7/site-packages/pandas/core/frame.py\u001b[0m in \u001b[0;36m__getitem__\u001b[0;34m(self, key)\u001b[0m\n\u001b[1;32m   2969\u001b[0m         \u001b[0;31m# Do we have a (boolean) 1d indexer?\u001b[0m\u001b[0;34m\u001b[0m\u001b[0;34m\u001b[0m\u001b[0;34m\u001b[0m\u001b[0m\n\u001b[1;32m   2970\u001b[0m         \u001b[0;32mif\u001b[0m \u001b[0mcom\u001b[0m\u001b[0;34m.\u001b[0m\u001b[0mis_bool_indexer\u001b[0m\u001b[0;34m(\u001b[0m\u001b[0mkey\u001b[0m\u001b[0;34m)\u001b[0m\u001b[0;34m:\u001b[0m\u001b[0;34m\u001b[0m\u001b[0;34m\u001b[0m\u001b[0m\n\u001b[0;32m-> 2971\u001b[0;31m             \u001b[0;32mreturn\u001b[0m \u001b[0mself\u001b[0m\u001b[0;34m.\u001b[0m\u001b[0m_getitem_bool_array\u001b[0m\u001b[0;34m(\u001b[0m\u001b[0mkey\u001b[0m\u001b[0;34m)\u001b[0m\u001b[0;34m\u001b[0m\u001b[0;34m\u001b[0m\u001b[0m\n\u001b[0m\u001b[1;32m   2972\u001b[0m \u001b[0;34m\u001b[0m\u001b[0m\n\u001b[1;32m   2973\u001b[0m         \u001b[0;31m# We are left with two options: a single key, and a collection of keys,\u001b[0m\u001b[0;34m\u001b[0m\u001b[0;34m\u001b[0m\u001b[0;34m\u001b[0m\u001b[0m\n",
      "\u001b[0;32m~/Documents/Projects/MDST/rateme/env/lib/python3.7/site-packages/pandas/core/frame.py\u001b[0m in \u001b[0;36m_getitem_bool_array\u001b[0;34m(self, key)\u001b[0m\n\u001b[1;32m   3016\u001b[0m         \u001b[0;32melif\u001b[0m \u001b[0mlen\u001b[0m\u001b[0;34m(\u001b[0m\u001b[0mkey\u001b[0m\u001b[0;34m)\u001b[0m \u001b[0;34m!=\u001b[0m \u001b[0mlen\u001b[0m\u001b[0;34m(\u001b[0m\u001b[0mself\u001b[0m\u001b[0;34m.\u001b[0m\u001b[0mindex\u001b[0m\u001b[0;34m)\u001b[0m\u001b[0;34m:\u001b[0m\u001b[0;34m\u001b[0m\u001b[0;34m\u001b[0m\u001b[0m\n\u001b[1;32m   3017\u001b[0m             raise ValueError(\n\u001b[0;32m-> 3018\u001b[0;31m                 \u001b[0;34m\"Item wrong length %d instead of %d.\"\u001b[0m \u001b[0;34m%\u001b[0m \u001b[0;34m(\u001b[0m\u001b[0mlen\u001b[0m\u001b[0;34m(\u001b[0m\u001b[0mkey\u001b[0m\u001b[0;34m)\u001b[0m\u001b[0;34m,\u001b[0m \u001b[0mlen\u001b[0m\u001b[0;34m(\u001b[0m\u001b[0mself\u001b[0m\u001b[0;34m.\u001b[0m\u001b[0mindex\u001b[0m\u001b[0;34m)\u001b[0m\u001b[0;34m)\u001b[0m\u001b[0;34m\u001b[0m\u001b[0;34m\u001b[0m\u001b[0m\n\u001b[0m\u001b[1;32m   3019\u001b[0m             )\n\u001b[1;32m   3020\u001b[0m \u001b[0;34m\u001b[0m\u001b[0m\n",
      "\u001b[0;31mValueError\u001b[0m: Item wrong length 2314 instead of 217586."
     ]
    }
   ],
   "source": [
    "posts[labels == 19].title"
   ]
  },
  {
   "cell_type": "code",
   "execution_count": null,
   "metadata": {},
   "outputs": [],
   "source": []
  }
 ],
 "metadata": {
  "kernelspec": {
   "display_name": "Python 3",
   "language": "python",
   "name": "python3"
  },
  "language_info": {
   "codemirror_mode": {
    "name": "ipython",
    "version": 3
   },
   "file_extension": ".py",
   "mimetype": "text/x-python",
   "name": "python",
   "nbconvert_exporter": "python",
   "pygments_lexer": "ipython3",
   "version": "3.7.4"
  }
 },
 "nbformat": 4,
 "nbformat_minor": 2
}
