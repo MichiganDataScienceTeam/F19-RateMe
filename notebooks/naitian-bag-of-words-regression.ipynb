{
 "cells": [
  {
   "cell_type": "code",
   "execution_count": 62,
   "metadata": {},
   "outputs": [],
   "source": [
    "import re\n",
    "import pandas as pd\n",
    "import emoji\n",
    "import string\n",
    "from sklearn.feature_extraction.text import CountVectorizer"
   ]
  },
  {
   "cell_type": "code",
   "execution_count": 63,
   "metadata": {},
   "outputs": [],
   "source": [
    "def clean_title(x):\n",
    "    tag = r\"([\\s\\(\\)\\[\\],\\/-]*\\b((\\d{1,2})[\\s\\(\\)\\[\\],\\/-]*([mf]|female|male))\\b[\\s\\(\\)\\[\\],\\/-]*|\\b[\\s\\(\\)\\[\\],\\/-]*(([mf]|female|male)[\\s\\(\\)\\[\\],\\/-]*(\\d{1,2}))\\b)\"\n",
    "    age = r\"\\d{1,2}\"\n",
    "    gender = r\"(\\b|\\d)([mMfF])\"\n",
    "    match = re.sub(tag, '', x, flags=re.I)\n",
    "    match = emoji.get_emoji_regexp().sub(r'', match)\n",
    "    match = match.translate(str.maketrans('', '', string.punctuation))\n",
    "    return match"
   ]
  },
  {
   "cell_type": "code",
   "execution_count": 114,
   "metadata": {},
   "outputs": [
    {
     "name": "stdout",
     "output_type": "stream",
     "text": [
      "(27454, 6314)\n"
     ]
    }
   ],
   "source": [
    "df = pd.read_csv(\"../data/posts.csv\", index_col=\"id\")\n",
    "ratings = df[[\"title\", \"average_rating\"]].dropna(subset=[\"average_rating\"])\n",
    "\n",
    "X = ratings.title\n",
    "X = X.apply(clean_title)\n",
    "y = ((ratings.average_rating - ratings.average_rating.mean()) / ratings.average_rating.std())\n",
    "y = y > 0\n",
    "\n",
    "vectorizer = CountVectorizer(min_df=5, ngram_range=(3, 4))\n",
    "X = vectorizer.fit_transform(X)\n",
    "print(X.shape)"
   ]
  },
  {
   "cell_type": "code",
   "execution_count": 111,
   "metadata": {},
   "outputs": [],
   "source": [
    "from sklearn.linear_model import LinearRegression, Ridge"
   ]
  },
  {
   "cell_type": "code",
   "execution_count": 149,
   "metadata": {},
   "outputs": [
    {
     "name": "stdout",
     "output_type": "stream",
     "text": [
      "0.22176161837916128\n",
      "most negative\n",
      "('of what others', -0.7492272507705166)\n",
      "('not having much luck', -0.6270846495553843)\n",
      "('open to suggestions on', -0.4754578949958506)\n",
      "('lost some weight recently', -0.470338076228774)\n",
      "('would love to get', -0.662194797101952)\n",
      "('should do to improve', -1.1037925933502166)\n",
      "('lose weight and', -0.5680161132331454)\n",
      "('to look my best', -1.172101077252358)\n",
      "('for ways to improve', -1.2474713250966398)\n",
      "('anything like this before', -0.9570684704121255)\n",
      "most positive\n",
      "('been going to the', 1.7097598896665214)\n",
      "('change up my hair', 0.7371599912185377)\n",
      "('curious of what others', 1.5474144762727766)\n",
      "('idea what people', 0.827201184709977)\n",
      "('of what others think', 0.47846469356326105)\n",
      "('really know where stand', 1.2798309355590192)\n",
      "('on what people', 0.7258458306982882)\n",
      "('me what you got', 1.5799348980222172)\n",
      "('im wondering if its', 1.732350265202244)\n",
      "('be honest can handle', 1.2549448937541152)\n"
     ]
    }
   ],
   "source": [
    "reg = LinearRegression().fit(X, y)\n",
    "print(reg.score(X, y))\n",
    "print(\"most negative\")\n",
    "print(\"\\n\".join([str((vectorizer.get_feature_names()[i], clf.coef_[0][i])) for i in reg.coef_.argsort()[:10]]))\n",
    "print(\"most positive\")\n",
    "print(\"\\n\".join([str((vectorizer.get_feature_names()[i], clf.coef_[0][i])) for i in (-reg.coef_).argsort()[:10]]))\n"
   ]
  },
  {
   "cell_type": "code",
   "execution_count": 144,
   "metadata": {},
   "outputs": [
    {
     "name": "stdout",
     "output_type": "stream",
     "text": [
      "0.1984468498058125\n",
      "most negative\n",
      "('comes to my', -2.092183201089716)\n",
      "('its time to', -1.891713939882907)\n",
      "('honestly think of', -1.7752841113160778)\n",
      "('look better without', -1.8870579775831096)\n",
      "('and still have', -1.4127107031415322)\n",
      "('decided to post here', -1.4647043989078616)\n",
      "('is the only', -1.4063154710217993)\n",
      "('the process of losing', -1.5549577777066916)\n",
      "('since last post', -1.5371954156819194)\n",
      "('pull any punches', -1.5673035481774353)\n",
      "most positive\n",
      "('what you would rate', 1.7662446674834407)\n",
      "('im wondering if its', 1.732350265202244)\n",
      "('love to get some', 1.622035060122196)\n",
      "('verification pic is', 1.7182537619908596)\n",
      "('me also do', 1.4601354358488672)\n",
      "('been going to the', 1.7097598896665214)\n",
      "('people say look like', 1.3028238247098276)\n",
      "('and im not sure', 1.7767214930038804)\n",
      "('version of myself', 1.4391663698424726)\n",
      "('see what others think', 1.2520925960280278)\n"
     ]
    }
   ],
   "source": [
    "ridge = Ridge().fit(X, y)\n",
    "print(ridge.score(X, y))\n",
    "\n",
    "print(\"most negative\")\n",
    "print(\"\\n\".join([str((vectorizer.get_feature_names()[i], clf.coef_[0][i])) for i in ridge.coef_.argsort()[:10]]))\n",
    "print(\"most positive\")\n",
    "print(\"\\n\".join([str((vectorizer.get_feature_names()[i], clf.coef_[0][i])) for i in (-ridge.coef_).argsort()[:10]]))\n"
   ]
  },
  {
   "cell_type": "code",
   "execution_count": 143,
   "metadata": {},
   "outputs": [
    {
     "name": "stdout",
     "output_type": "stream",
     "text": [
      "most negative\n",
      "('comes to my', -2.092183201089716)\n",
      "('its time to', -1.891713939882907)\n",
      "('look better without', -1.8870579775831096)\n",
      "('comment on my appearance', -1.8390731396446545)\n",
      "('honestly think of', -1.7752841113160778)\n",
      "('before want to', -1.6871411753876862)\n",
      "('pull any punches', -1.5673035481774353)\n",
      "('the process of losing', -1.5549577777066916)\n",
      "('to cut my hair', -1.5398032301028568)\n",
      "('since last post', -1.5371954156819194)\n",
      "most positive\n",
      "('and im not sure', 1.7767214930038804)\n",
      "('what you would rate', 1.7662446674834407)\n",
      "('im wondering if its', 1.732350265202244)\n",
      "('verification pic is', 1.7182537619908596)\n",
      "('been going to the', 1.7097598896665214)\n",
      "('love to get some', 1.622035060122196)\n",
      "('bad at taking', 1.610015552352932)\n",
      "('me what you got', 1.5799348980222172)\n",
      "('me to do', 1.575397186844696)\n",
      "('me but be', 1.551266565263146)\n"
     ]
    }
   ],
   "source": [
    "from sklearn.svm import LinearSVC\n",
    "\n",
    "clf = LinearSVC()\n",
    "clf.fit(X, y)\n",
    "\n",
    "print(\"most negative\")\n",
    "print(\"\\n\".join([str((vectorizer.get_feature_names()[i], clf.coef_[0][i])) for i in clf.coef_[0].argsort()[:10]]))\n",
    "print(\"most positive\")\n",
    "print(\"\\n\".join([str((vectorizer.get_feature_names()[i], clf.coef_[0][i])) for i in (-clf.coef_[0]).argsort()[:10]]))"
   ]
  },
  {
   "cell_type": "code",
   "execution_count": 148,
   "metadata": {},
   "outputs": [
    {
     "name": "stdout",
     "output_type": "stream",
     "text": [
      "Accuracy: 0.6911196911196911\n",
      "AUROC: 0.7629669158689096\n"
     ]
    }
   ],
   "source": [
    "from sklearn.metrics import *\n",
    "\n",
    "print(\"Accuracy:\", accuracy_score(y, clf.predict(X)))\n",
    "print(\"AUROC:\", roc_auc_score(y, clf.decision_function(X)))"
   ]
  },
  {
   "cell_type": "code",
   "execution_count": 19,
   "metadata": {},
   "outputs": [],
   "source": [
    "import spacy\n",
    "from spacy import displacy\n",
    "nlp = spacy.load('en_core_web_sm')"
   ]
  },
  {
   "cell_type": "code",
   "execution_count": 5,
   "metadata": {},
   "outputs": [],
   "source": [
    "df = pd.read_csv(\"../data/posts.csv\", index_col=\"id\")"
   ]
  },
  {
   "cell_type": "code",
   "execution_count": 27,
   "metadata": {},
   "outputs": [
    {
     "data": {
      "text/plain": [
       "'[20M] What do you think of the Arabic /Russian mix ☺️?'"
      ]
     },
     "execution_count": 27,
     "metadata": {},
     "output_type": "execute_result"
    }
   ],
   "source": [
    "df.iloc[1].title"
   ]
  },
  {
   "cell_type": "code",
   "execution_count": 156,
   "metadata": {},
   "outputs": [],
   "source": [
    "doc = nlp(clean_title(df.iloc[1].title))"
   ]
  },
  {
   "cell_type": "code",
   "execution_count": 158,
   "metadata": {},
   "outputs": [
    {
     "data": {
      "text/html": [
       "<svg xmlns=\"http://www.w3.org/2000/svg\" xmlns:xlink=\"http://www.w3.org/1999/xlink\" xml:lang=\"en\" id=\"0dcf00a5e4c24ffa8943c0bc7fa741da-0\" class=\"displacy\" width=\"1800\" height=\"487.0\" direction=\"ltr\" style=\"max-width: none; height: 487.0px; color: #000000; background: #ffffff; font-family: Arial; direction: ltr\">\n",
       "<text class=\"displacy-token\" fill=\"currentColor\" text-anchor=\"middle\" y=\"397.0\">\n",
       "    <tspan class=\"displacy-word\" fill=\"currentColor\" x=\"50\">What</tspan>\n",
       "    <tspan class=\"displacy-tag\" dy=\"2em\" fill=\"currentColor\" x=\"50\">PRON</tspan>\n",
       "</text>\n",
       "\n",
       "<text class=\"displacy-token\" fill=\"currentColor\" text-anchor=\"middle\" y=\"397.0\">\n",
       "    <tspan class=\"displacy-word\" fill=\"currentColor\" x=\"225\">do</tspan>\n",
       "    <tspan class=\"displacy-tag\" dy=\"2em\" fill=\"currentColor\" x=\"225\">AUX</tspan>\n",
       "</text>\n",
       "\n",
       "<text class=\"displacy-token\" fill=\"currentColor\" text-anchor=\"middle\" y=\"397.0\">\n",
       "    <tspan class=\"displacy-word\" fill=\"currentColor\" x=\"400\">you</tspan>\n",
       "    <tspan class=\"displacy-tag\" dy=\"2em\" fill=\"currentColor\" x=\"400\">PRON</tspan>\n",
       "</text>\n",
       "\n",
       "<text class=\"displacy-token\" fill=\"currentColor\" text-anchor=\"middle\" y=\"397.0\">\n",
       "    <tspan class=\"displacy-word\" fill=\"currentColor\" x=\"575\">think</tspan>\n",
       "    <tspan class=\"displacy-tag\" dy=\"2em\" fill=\"currentColor\" x=\"575\">VERB</tspan>\n",
       "</text>\n",
       "\n",
       "<text class=\"displacy-token\" fill=\"currentColor\" text-anchor=\"middle\" y=\"397.0\">\n",
       "    <tspan class=\"displacy-word\" fill=\"currentColor\" x=\"750\">of</tspan>\n",
       "    <tspan class=\"displacy-tag\" dy=\"2em\" fill=\"currentColor\" x=\"750\">ADP</tspan>\n",
       "</text>\n",
       "\n",
       "<text class=\"displacy-token\" fill=\"currentColor\" text-anchor=\"middle\" y=\"397.0\">\n",
       "    <tspan class=\"displacy-word\" fill=\"currentColor\" x=\"925\">the</tspan>\n",
       "    <tspan class=\"displacy-tag\" dy=\"2em\" fill=\"currentColor\" x=\"925\">DET</tspan>\n",
       "</text>\n",
       "\n",
       "<text class=\"displacy-token\" fill=\"currentColor\" text-anchor=\"middle\" y=\"397.0\">\n",
       "    <tspan class=\"displacy-word\" fill=\"currentColor\" x=\"1100\">Arabic</tspan>\n",
       "    <tspan class=\"displacy-tag\" dy=\"2em\" fill=\"currentColor\" x=\"1100\">ADJ</tspan>\n",
       "</text>\n",
       "\n",
       "<text class=\"displacy-token\" fill=\"currentColor\" text-anchor=\"middle\" y=\"397.0\">\n",
       "    <tspan class=\"displacy-word\" fill=\"currentColor\" x=\"1275\">Russian</tspan>\n",
       "    <tspan class=\"displacy-tag\" dy=\"2em\" fill=\"currentColor\" x=\"1275\">ADJ</tspan>\n",
       "</text>\n",
       "\n",
       "<text class=\"displacy-token\" fill=\"currentColor\" text-anchor=\"middle\" y=\"397.0\">\n",
       "    <tspan class=\"displacy-word\" fill=\"currentColor\" x=\"1450\">mix</tspan>\n",
       "    <tspan class=\"displacy-tag\" dy=\"2em\" fill=\"currentColor\" x=\"1450\">NOUN</tspan>\n",
       "</text>\n",
       "\n",
       "<text class=\"displacy-token\" fill=\"currentColor\" text-anchor=\"middle\" y=\"397.0\">\n",
       "    <tspan class=\"displacy-word\" fill=\"currentColor\" x=\"1625\">️</tspan>\n",
       "    <tspan class=\"displacy-tag\" dy=\"2em\" fill=\"currentColor\" x=\"1625\">X</tspan>\n",
       "</text>\n",
       "\n",
       "<g class=\"displacy-arrow\">\n",
       "    <path class=\"displacy-arc\" id=\"arrow-0dcf00a5e4c24ffa8943c0bc7fa741da-0-0\" stroke-width=\"2px\" d=\"M70,352.0 C70,89.5 570.0,89.5 570.0,352.0\" fill=\"none\" stroke=\"currentColor\"/>\n",
       "    <text dy=\"1.25em\" style=\"font-size: 0.8em; letter-spacing: 1px\">\n",
       "        <textPath xlink:href=\"#arrow-0dcf00a5e4c24ffa8943c0bc7fa741da-0-0\" class=\"displacy-label\" startOffset=\"50%\" side=\"left\" fill=\"currentColor\" text-anchor=\"middle\">dobj</textPath>\n",
       "    </text>\n",
       "    <path class=\"displacy-arrowhead\" d=\"M70,354.0 L62,342.0 78,342.0\" fill=\"currentColor\"/>\n",
       "</g>\n",
       "\n",
       "<g class=\"displacy-arrow\">\n",
       "    <path class=\"displacy-arc\" id=\"arrow-0dcf00a5e4c24ffa8943c0bc7fa741da-0-1\" stroke-width=\"2px\" d=\"M245,352.0 C245,177.0 565.0,177.0 565.0,352.0\" fill=\"none\" stroke=\"currentColor\"/>\n",
       "    <text dy=\"1.25em\" style=\"font-size: 0.8em; letter-spacing: 1px\">\n",
       "        <textPath xlink:href=\"#arrow-0dcf00a5e4c24ffa8943c0bc7fa741da-0-1\" class=\"displacy-label\" startOffset=\"50%\" side=\"left\" fill=\"currentColor\" text-anchor=\"middle\">aux</textPath>\n",
       "    </text>\n",
       "    <path class=\"displacy-arrowhead\" d=\"M245,354.0 L237,342.0 253,342.0\" fill=\"currentColor\"/>\n",
       "</g>\n",
       "\n",
       "<g class=\"displacy-arrow\">\n",
       "    <path class=\"displacy-arc\" id=\"arrow-0dcf00a5e4c24ffa8943c0bc7fa741da-0-2\" stroke-width=\"2px\" d=\"M420,352.0 C420,264.5 560.0,264.5 560.0,352.0\" fill=\"none\" stroke=\"currentColor\"/>\n",
       "    <text dy=\"1.25em\" style=\"font-size: 0.8em; letter-spacing: 1px\">\n",
       "        <textPath xlink:href=\"#arrow-0dcf00a5e4c24ffa8943c0bc7fa741da-0-2\" class=\"displacy-label\" startOffset=\"50%\" side=\"left\" fill=\"currentColor\" text-anchor=\"middle\">nsubj</textPath>\n",
       "    </text>\n",
       "    <path class=\"displacy-arrowhead\" d=\"M420,354.0 L412,342.0 428,342.0\" fill=\"currentColor\"/>\n",
       "</g>\n",
       "\n",
       "<g class=\"displacy-arrow\">\n",
       "    <path class=\"displacy-arc\" id=\"arrow-0dcf00a5e4c24ffa8943c0bc7fa741da-0-3\" stroke-width=\"2px\" d=\"M595,352.0 C595,264.5 735.0,264.5 735.0,352.0\" fill=\"none\" stroke=\"currentColor\"/>\n",
       "    <text dy=\"1.25em\" style=\"font-size: 0.8em; letter-spacing: 1px\">\n",
       "        <textPath xlink:href=\"#arrow-0dcf00a5e4c24ffa8943c0bc7fa741da-0-3\" class=\"displacy-label\" startOffset=\"50%\" side=\"left\" fill=\"currentColor\" text-anchor=\"middle\">prep</textPath>\n",
       "    </text>\n",
       "    <path class=\"displacy-arrowhead\" d=\"M735.0,354.0 L743.0,342.0 727.0,342.0\" fill=\"currentColor\"/>\n",
       "</g>\n",
       "\n",
       "<g class=\"displacy-arrow\">\n",
       "    <path class=\"displacy-arc\" id=\"arrow-0dcf00a5e4c24ffa8943c0bc7fa741da-0-4\" stroke-width=\"2px\" d=\"M945,352.0 C945,89.5 1445.0,89.5 1445.0,352.0\" fill=\"none\" stroke=\"currentColor\"/>\n",
       "    <text dy=\"1.25em\" style=\"font-size: 0.8em; letter-spacing: 1px\">\n",
       "        <textPath xlink:href=\"#arrow-0dcf00a5e4c24ffa8943c0bc7fa741da-0-4\" class=\"displacy-label\" startOffset=\"50%\" side=\"left\" fill=\"currentColor\" text-anchor=\"middle\">det</textPath>\n",
       "    </text>\n",
       "    <path class=\"displacy-arrowhead\" d=\"M945,354.0 L937,342.0 953,342.0\" fill=\"currentColor\"/>\n",
       "</g>\n",
       "\n",
       "<g class=\"displacy-arrow\">\n",
       "    <path class=\"displacy-arc\" id=\"arrow-0dcf00a5e4c24ffa8943c0bc7fa741da-0-5\" stroke-width=\"2px\" d=\"M1120,352.0 C1120,177.0 1440.0,177.0 1440.0,352.0\" fill=\"none\" stroke=\"currentColor\"/>\n",
       "    <text dy=\"1.25em\" style=\"font-size: 0.8em; letter-spacing: 1px\">\n",
       "        <textPath xlink:href=\"#arrow-0dcf00a5e4c24ffa8943c0bc7fa741da-0-5\" class=\"displacy-label\" startOffset=\"50%\" side=\"left\" fill=\"currentColor\" text-anchor=\"middle\">amod</textPath>\n",
       "    </text>\n",
       "    <path class=\"displacy-arrowhead\" d=\"M1120,354.0 L1112,342.0 1128,342.0\" fill=\"currentColor\"/>\n",
       "</g>\n",
       "\n",
       "<g class=\"displacy-arrow\">\n",
       "    <path class=\"displacy-arc\" id=\"arrow-0dcf00a5e4c24ffa8943c0bc7fa741da-0-6\" stroke-width=\"2px\" d=\"M1295,352.0 C1295,264.5 1435.0,264.5 1435.0,352.0\" fill=\"none\" stroke=\"currentColor\"/>\n",
       "    <text dy=\"1.25em\" style=\"font-size: 0.8em; letter-spacing: 1px\">\n",
       "        <textPath xlink:href=\"#arrow-0dcf00a5e4c24ffa8943c0bc7fa741da-0-6\" class=\"displacy-label\" startOffset=\"50%\" side=\"left\" fill=\"currentColor\" text-anchor=\"middle\">amod</textPath>\n",
       "    </text>\n",
       "    <path class=\"displacy-arrowhead\" d=\"M1295,354.0 L1287,342.0 1303,342.0\" fill=\"currentColor\"/>\n",
       "</g>\n",
       "\n",
       "<g class=\"displacy-arrow\">\n",
       "    <path class=\"displacy-arc\" id=\"arrow-0dcf00a5e4c24ffa8943c0bc7fa741da-0-7\" stroke-width=\"2px\" d=\"M770,352.0 C770,2.0 1450.0,2.0 1450.0,352.0\" fill=\"none\" stroke=\"currentColor\"/>\n",
       "    <text dy=\"1.25em\" style=\"font-size: 0.8em; letter-spacing: 1px\">\n",
       "        <textPath xlink:href=\"#arrow-0dcf00a5e4c24ffa8943c0bc7fa741da-0-7\" class=\"displacy-label\" startOffset=\"50%\" side=\"left\" fill=\"currentColor\" text-anchor=\"middle\">pobj</textPath>\n",
       "    </text>\n",
       "    <path class=\"displacy-arrowhead\" d=\"M1450.0,354.0 L1458.0,342.0 1442.0,342.0\" fill=\"currentColor\"/>\n",
       "</g>\n",
       "\n",
       "<g class=\"displacy-arrow\">\n",
       "    <path class=\"displacy-arc\" id=\"arrow-0dcf00a5e4c24ffa8943c0bc7fa741da-0-8\" stroke-width=\"2px\" d=\"M1470,352.0 C1470,264.5 1610.0,264.5 1610.0,352.0\" fill=\"none\" stroke=\"currentColor\"/>\n",
       "    <text dy=\"1.25em\" style=\"font-size: 0.8em; letter-spacing: 1px\">\n",
       "        <textPath xlink:href=\"#arrow-0dcf00a5e4c24ffa8943c0bc7fa741da-0-8\" class=\"displacy-label\" startOffset=\"50%\" side=\"left\" fill=\"currentColor\" text-anchor=\"middle\">appos</textPath>\n",
       "    </text>\n",
       "    <path class=\"displacy-arrowhead\" d=\"M1610.0,354.0 L1618.0,342.0 1602.0,342.0\" fill=\"currentColor\"/>\n",
       "</g>\n",
       "</svg>"
      ],
      "text/plain": [
       "<IPython.core.display.HTML object>"
      ]
     },
     "metadata": {},
     "output_type": "display_data"
    }
   ],
   "source": [
    "displacy.render(doc)"
   ]
  },
  {
   "cell_type": "code",
   "execution_count": 66,
   "metadata": {},
   "outputs": [
    {
     "data": {
      "text/plain": [
       "['do think', 'think', 'think of']"
      ]
     },
     "execution_count": 66,
     "metadata": {},
     "output_type": "execute_result"
    }
   ],
   "source": [
    "frags"
   ]
  },
  {
   "cell_type": "code",
   "execution_count": 95,
   "metadata": {},
   "outputs": [],
   "source": [
    "\n",
    "def extract_fragments(text):\n",
    "    \"\"\"\n",
    "    Following the intuition that the\n",
    "    bulk of this functional information is contained in\n",
    "    the root of a question’s dependency parse along\n",
    "    with its outgoing arcs (Iyyer et al., 2014a), we\n",
    "    take the fragments of a question to be the root of\n",
    "    its parse tree, along with each (root, child) pair.\n",
    "    To capture cases when the operational word in\n",
    "    the question is not connected to its root (such as\n",
    "    “What...”), we also consider the initial unigram\n",
    "    and bigram of a question as fragments. The following\n",
    "    question has 5 fragments:\n",
    "        what, what is, going→*, is←going and going→do\n",
    "        \n",
    "        What is the minister going to do about ... ?\n",
    "    \"\"\"\n",
    "    doc = nlp(clean_title(text))\n",
    "    if len(doc) == 0:\n",
    "        return []\n",
    "    fragments = [str(doc[0]), str(doc[:2])]\n",
    "    # We take as NPs subtrees connected to the root with the\n",
    "    # following: nsubj, nsubjpass, dobj, iobj, pobj, attr.\n",
    "\n",
    "    np_deps = [\"nsubj\", \"nsubjpass\", \"dobj\", \"iobj\", \"pobj\", \"attr\"]\n",
    "    root = None\n",
    "    for tok in doc:\n",
    "\n",
    "        if tok.head.dep_ == \"ROOT\" and tok.dep_ not in np_deps:\n",
    "            if tok.dep_ == \"ROOT\":\n",
    "                root = tok\n",
    "                fragments.append(str(tok))\n",
    "                continue\n",
    "            if not root:\n",
    "                fragments.append(\"{} {}\".format(tok, tok.head))\n",
    "                continue\n",
    "            else:\n",
    "                fragments.append(\"{} {}\".format(tok.head, tok))\n",
    "                continue\n",
    "    return fragments"
   ]
  },
  {
   "cell_type": "code",
   "execution_count": 96,
   "metadata": {},
   "outputs": [],
   "source": [
    "fragments = df.title.apply(extract_fragments)"
   ]
  },
  {
   "cell_type": "code",
   "execution_count": 97,
   "metadata": {},
   "outputs": [
    {
     "data": {
      "text/plain": [
       "id\n",
       "dh3ha2                                [How, Hows, How s, s]\n",
       "dh3b61           [What, What do, do think, think, think of]\n",
       "dh37sw    [Kinda, Kinda low, Kinda esteem, self esteem, ...\n",
       "dh368y    [Got, Got a, Got are, are, are with, are some,...\n",
       "dh32ch                             [RateMe, RateMe, RateMe]\n",
       "Name: title, dtype: object"
      ]
     },
     "execution_count": 97,
     "metadata": {},
     "output_type": "execute_result"
    }
   ],
   "source": [
    "fragments.head()"
   ]
  },
  {
   "cell_type": "code",
   "execution_count": 98,
   "metadata": {},
   "outputs": [],
   "source": [
    "frag_list = []\n",
    "for frags in fragments.to_numpy():\n",
    "    frag_list += frags"
   ]
  },
  {
   "cell_type": "code",
   "execution_count": 106,
   "metadata": {},
   "outputs": [],
   "source": [
    "frag_list = pd.Series(frag_list).str.strip().str.lower()"
   ]
  },
  {
   "cell_type": "code",
   "execution_count": 153,
   "metadata": {},
   "outputs": [
    {
     "data": {
      "text/plain": [
       "rate me            8430\n",
       "be honest          3735\n",
       "just curious       2809\n",
       "looking for        2688\n",
       "please rate        1390\n",
       "rate please        1155\n",
       "please be          1146\n",
       "do think           1083\n",
       "rate and            911\n",
       "give me             892\n",
       "think do            889\n",
       "do look             739\n",
       "what do             693\n",
       "honest opinions     640\n",
       "just wondering      638\n",
       "let know            626\n",
       "rate my             603\n",
       "always been         594\n",
       "want know           577\n",
       "just want           555\n",
       "never had           521\n",
       "just got            514\n",
       "be please           511\n",
       "m curious           492\n",
       "how look            465\n",
       "just looking        465\n",
       "look do             460\n",
       "curious about       429\n",
       "curious think       428\n",
       "am i                424\n",
       "first time          416\n",
       "not sure            410\n",
       "how do              405\n",
       "rate honestly       396\n",
       "rate 110            380\n",
       "i have              374\n",
       "would like          356\n",
       "would love          334\n",
       "lost and            330\n",
       "been told           330\n",
       "’m curious          326\n",
       "know do             317\n",
       "would rate          296\n",
       "curious see         293\n",
       "never been          290\n",
       "be and              289\n",
       "do know             288\n",
       "like know           277\n",
       "curious to          270\n",
       "just turned         267\n",
       "dtype: int64"
      ]
     },
     "execution_count": 153,
     "metadata": {},
     "output_type": "execute_result"
    }
   ],
   "source": [
    "frag_list[frag_list.apply(lambda x: len(x.split()) >= 2)].value_counts()[:50]"
   ]
  },
  {
   "cell_type": "code",
   "execution_count": null,
   "metadata": {},
   "outputs": [],
   "source": []
  }
 ],
 "metadata": {
  "kernelspec": {
   "display_name": "Python 3",
   "language": "python",
   "name": "python3"
  },
  "language_info": {
   "codemirror_mode": {
    "name": "ipython",
    "version": 3
   },
   "file_extension": ".py",
   "mimetype": "text/x-python",
   "name": "python",
   "nbconvert_exporter": "python",
   "pygments_lexer": "ipython3",
   "version": "3.7.4"
  }
 },
 "nbformat": 4,
 "nbformat_minor": 2
}
