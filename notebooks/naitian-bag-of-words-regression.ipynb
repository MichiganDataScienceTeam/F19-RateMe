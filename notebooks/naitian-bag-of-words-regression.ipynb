{
 "cells": [
  {
   "cell_type": "code",
   "execution_count": 42,
   "metadata": {},
   "outputs": [],
   "source": [
    "import re\n",
    "import pandas as pd\n",
    "import numpy as np\n",
    "import emoji\n",
    "import string\n",
    "from sklearn.feature_extraction.text import CountVectorizer\n",
    "\n",
    "import matplotlib.pyplot as plt\n",
    "%matplotlib notebook"
   ]
  },
  {
   "cell_type": "code",
   "execution_count": 2,
   "metadata": {},
   "outputs": [],
   "source": [
    "def clean_title(x):\n",
    "    tag = r\"([\\s\\(\\)\\[\\],\\/-]*\\b((\\d{1,2})[\\s\\(\\)\\[\\],\\/-]*([mf]|female|male))\\b[\\s\\(\\)\\[\\],\\/-]*|\\b[\\s\\(\\)\\[\\],\\/-]*(([mf]|female|male)[\\s\\(\\)\\[\\],\\/-]*(\\d{1,2}))\\b)\"\n",
    "    age = r\"\\d{1,2}\"\n",
    "    gender = r\"(\\b|\\d)([mMfF])\"\n",
    "    match = re.sub(tag, '', x, flags=re.I)\n",
    "    match = emoji.get_emoji_regexp().sub(r'', match)\n",
    "    match = match.translate(str.maketrans('', '', string.punctuation))\n",
    "    return match"
   ]
  },
  {
   "cell_type": "code",
   "execution_count": 43,
   "metadata": {},
   "outputs": [
    {
     "name": "stdout",
     "output_type": "stream",
     "text": [
      "(93444, 17598)\n"
     ]
    }
   ],
   "source": [
    "df = pd.read_csv(\"../data/all_posts.csv\", index_col=\"id\")\n",
    "ratings = df[[\"title\", \"average_rating\"]].dropna(subset=[\"average_rating\"])\n",
    "\n",
    "X = ratings.title\n",
    "X = X.apply(clean_title)\n",
    "y = ((ratings.average_rating - ratings.average_rating.mean()) / ratings.average_rating.std())\n",
    "y = y > 0\n",
    "\n",
    "vectorizer = CountVectorizer(min_df=5, ngram_range=(3, 4))\n",
    "X = vectorizer.fit_transform(X)\n",
    "print(X.shape)"
   ]
  },
  {
   "cell_type": "code",
   "execution_count": 44,
   "metadata": {},
   "outputs": [],
   "source": [
    "from sklearn.linear_model import LinearRegression, Ridge"
   ]
  },
  {
   "cell_type": "code",
   "execution_count": 45,
   "metadata": {},
   "outputs": [
    {
     "name": "stdout",
     "output_type": "stream",
     "text": [
      "0.18329785002861387\n",
      "most negative\n",
      "('too old to be', -2.386560932893037)\n",
      "('been confident in my', -2.0687785410986)\n",
      "('to 10 where', -1.9818034446777986)\n",
      "('of my mind', -1.9175953447576555)\n",
      "('love some opinions', -1.8829268356040516)\n",
      "('idea where im', -1.8547945632267673)\n",
      "('be honest looking for', -1.837554806436986)\n",
      "('come across to', -1.7856437161235565)\n",
      "('just like everyone', -1.7430371696061298)\n",
      "('what am working with', -1.7389873658286346)\n",
      "most positive\n",
      "('the one in the', 2.108853163317652)\n",
      "('from to 10 where', 2.052526811839095)\n",
      "('curious just like everyone', 1.9293187742632634)\n",
      "('didnt get any responses', 1.9001685550140879)\n",
      "('me also beard', 1.8393692423026138)\n",
      "('of year relationship', 1.7577413358757115)\n",
      "('do stand on', 1.7398420985621876)\n",
      "('never thought of myself', 1.7218931071038983)\n",
      "('looks out of 10', 1.7116420298801946)\n",
      "('for any suggestions', 1.7031411733182118)\n"
     ]
    }
   ],
   "source": [
    "reg = LinearRegression().fit(X, y)\n",
    "print(reg.score(X, y))\n",
    "print(\"most negative\")\n",
    "print(\"\\n\".join([str((vectorizer.get_feature_names()[i], reg.coef_[i])) for i in reg.coef_.argsort()[:10]]))\n",
    "print(\"most positive\")\n",
    "print(\"\\n\".join([str((vectorizer.get_feature_names()[i], reg.coef_[i])) for i in (-reg.coef_).argsort()[:10]]))\n"
   ]
  },
  {
   "cell_type": "code",
   "execution_count": 46,
   "metadata": {},
   "outputs": [
    {
     "name": "stdout",
     "output_type": "stream",
     "text": [
      "0.16586406381299823\n",
      "most negative\n",
      "('should keep the facial', -0.6736803094510072)\n",
      "('months and want', -0.6562664256432262)\n",
      "('any advice and', -0.6371390861370904)\n",
      "('much luck on tinder', -0.5983626687224751)\n",
      "('the process of losing', -0.5972198090455605)\n",
      "('id give this shot', -0.5917366322780354)\n",
      "('critical as possible', -0.5754834802589426)\n",
      "('ratings would be appreciated', -0.5746687523542411)\n",
      "('as can be', -0.5736031001647823)\n",
      "('too old to be', -0.5622066903955212)\n",
      "most positive\n",
      "('love to get some', 0.6750423659072798)\n",
      "('just went through break', 0.6717121144050228)\n",
      "('wondering if should keep', 0.6663041924420904)\n",
      "('really need to know', 0.6492171895642987)\n",
      "('for too long', 0.6253323913770503)\n",
      "('but was curious', 0.6223437998693262)\n",
      "('im the guy on', 0.6190783683174077)\n",
      "('just curious any suggestions', 0.6030674784994611)\n",
      "('heading off to college', 0.5914939516525364)\n",
      "('please be kind but', 0.587187329162937)\n"
     ]
    }
   ],
   "source": [
    "ridge = Ridge().fit(X, y)\n",
    "print(ridge.score(X, y))\n",
    "\n",
    "print(\"most negative\")\n",
    "print(\"\\n\".join([str((vectorizer.get_feature_names()[i], ridge.coef_[i])) for i in ridge.coef_.argsort()[:10]]))\n",
    "print(\"most positive\")\n",
    "print(\"\\n\".join([str((vectorizer.get_feature_names()[i], ridge.coef_[i])) for i in (-ridge.coef_).argsort()[:10]]))\n"
   ]
  },
  {
   "cell_type": "code",
   "execution_count": 47,
   "metadata": {},
   "outputs": [
    {
     "name": "stdout",
     "output_type": "stream",
     "text": [
      "most negative\n",
      "('much luck on tinder', -2.027531948724353)\n",
      "('should keep the facial', -1.8380284902942767)\n",
      "('too old to be', -1.8277826055832151)\n",
      "('where fall in', -1.7801503736040174)\n",
      "('any advice and', -1.731995396997816)\n",
      "('what league im in', -1.7183002936461433)\n",
      "('the process of losing', -1.7059620174873744)\n",
      "('months and want', -1.7030400295771904)\n",
      "('looks or not', -1.6725544172676103)\n",
      "('what should fix', -1.5864952240397696)\n",
      "most positive\n",
      "('my first date', 2.030433813530835)\n",
      "('stand be honest', 1.973880594709696)\n",
      "('girlfriend dumped me', 1.9408872817446576)\n",
      "('wondering if should keep', 1.9191990039870683)\n",
      "('maybe some advice on', 1.914586809446145)\n",
      "('always been curious of', 1.9045255544205408)\n",
      "('think im just', 1.8175592103540836)\n",
      "('really need to know', 1.7856043687590302)\n",
      "('but was curious', 1.7610920489493844)\n",
      "('the outside world', 1.7564948219819096)\n"
     ]
    }
   ],
   "source": [
    "from sklearn.svm import LinearSVC\n",
    "\n",
    "clf = LinearSVC()\n",
    "clf.fit(X, y)\n",
    "\n",
    "print(\"most negative\")\n",
    "print(\"\\n\".join([str((vectorizer.get_feature_names()[i], clf.coef_[0][i])) for i in clf.coef_[0].argsort()[:10]]))\n",
    "print(\"most positive\")\n",
    "print(\"\\n\".join([str((vectorizer.get_feature_names()[i], clf.coef_[0][i])) for i in (-clf.coef_[0]).argsort()[:10]]))"
   ]
  },
  {
   "cell_type": "code",
   "execution_count": 48,
   "metadata": {},
   "outputs": [
    {
     "name": "stdout",
     "output_type": "stream",
     "text": [
      "Accuracy: 0.6772505457814306\n",
      "AUROC: 0.7332552429416533\n"
     ]
    }
   ],
   "source": [
    "from sklearn.metrics import *\n",
    "\n",
    "print(\"Accuracy:\", accuracy_score(y, clf.predict(X)))\n",
    "print(\"AUROC:\", roc_auc_score(y, clf.decision_function(X)))"
   ]
  },
  {
   "cell_type": "code",
   "execution_count": 49,
   "metadata": {},
   "outputs": [
    {
     "name": "stderr",
     "output_type": "stream",
     "text": [
      "/Users/naitian/Documents/Projects/MDST/rateme/env/lib/python3.7/site-packages/pandas/core/series.py:853: RuntimeWarning: invalid value encountered in log\n",
      "  result = getattr(ufunc, method)(*inputs, **kwargs)\n"
     ]
    },
    {
     "name": "stdout",
     "output_type": "stream",
     "text": [
      "(218000, 45072)\n"
     ]
    }
   ],
   "source": [
    "scores = df[[\"title\", \"score\"]].dropna(subset=[\"score\"])\n",
    "X = scores.title\n",
    "X = X.apply(clean_title)\n",
    "y = np.log((scores.score - scores.score.mean()) / scores.score.std())\n",
    "y = y > 0\n",
    "\n",
    "vectorizer = CountVectorizer(min_df=5, ngram_range=(3, 4))\n",
    "X = vectorizer.fit_transform(X)\n",
    "print(X.shape)"
   ]
  },
  {
   "cell_type": "code",
   "execution_count": 50,
   "metadata": {},
   "outputs": [
    {
     "name": "stdout",
     "output_type": "stream",
     "text": [
      "most negative\n",
      "('feeling like myself', -1.5286725612312713)\n",
      "('got dumped after years', -1.4218421282327847)\n",
      "('some photos of', -1.2643778274539603)\n",
      "('advice would be useful', -1.2041068706703506)\n",
      "('rate me amp be', -1.1602074659239865)\n",
      "('of want to know', -1.1374138381797005)\n",
      "('and wanted some', -1.1247105003846514)\n",
      "('and curious for', -1.1225102106773828)\n",
      "('id try this out', -1.121505947484366)\n",
      "('fluctuating self esteem', -1.11390433123655)\n",
      "most positive\n",
      "('ago but have', 1.5348732929438653)\n",
      "('ive gone from', 1.4022525416416947)\n",
      "('my makeup and', 1.3945819668096722)\n",
      "('pretty down about', 1.393117933151576)\n",
      "('if its harsh', 1.3883864844949974)\n",
      "('and feel pretty', 1.380859237611832)\n",
      "('like how look in', 1.3620316556842618)\n",
      "('im curious also', 1.3605044427934234)\n",
      "('curly vs straight', 1.336835180748292)\n",
      "('the time but', 1.3280336104322887)\n"
     ]
    }
   ],
   "source": [
    "from sklearn.svm import LinearSVC\n",
    "\n",
    "clf = LinearSVC()\n",
    "clf.fit(X, y)\n",
    "\n",
    "print(\"most negative\")\n",
    "print(\"\\n\".join([str((vectorizer.get_feature_names()[i], clf.coef_[0][i])) for i in clf.coef_[0].argsort()[:10]]))\n",
    "print(\"most positive\")\n",
    "print(\"\\n\".join([str((vectorizer.get_feature_names()[i], clf.coef_[0][i])) for i in (-clf.coef_[0]).argsort()[:10]]))"
   ]
  },
  {
   "cell_type": "code",
   "execution_count": 28,
   "metadata": {},
   "outputs": [
    {
     "data": {
      "text/plain": [
       "count    79000.000000\n",
       "mean         4.913671\n",
       "std         29.860329\n",
       "min          0.000000\n",
       "25%          1.000000\n",
       "50%          1.000000\n",
       "75%          1.000000\n",
       "max       1155.000000\n",
       "Name: score, dtype: float64"
      ]
     },
     "execution_count": 28,
     "metadata": {},
     "output_type": "execute_result"
    }
   ],
   "source": [
    "scores.score.describe()"
   ]
  },
  {
   "cell_type": "code",
   "execution_count": 19,
   "metadata": {},
   "outputs": [],
   "source": [
    "import spacy\n",
    "from spacy import displacy\n",
    "nlp = spacy.load('en_core_web_sm')"
   ]
  },
  {
   "cell_type": "code",
   "execution_count": 5,
   "metadata": {},
   "outputs": [],
   "source": [
    "df = pd.read_csv(\"../data/posts.csv\", index_col=\"id\")"
   ]
  },
  {
   "cell_type": "code",
   "execution_count": 27,
   "metadata": {},
   "outputs": [
    {
     "data": {
      "text/plain": [
       "'[20M] What do you think of the Arabic /Russian mix ☺️?'"
      ]
     },
     "execution_count": 27,
     "metadata": {},
     "output_type": "execute_result"
    }
   ],
   "source": [
    "df.iloc[1].title"
   ]
  },
  {
   "cell_type": "code",
   "execution_count": 156,
   "metadata": {},
   "outputs": [],
   "source": [
    "doc = nlp(clean_title(df.iloc[1].title))"
   ]
  },
  {
   "cell_type": "code",
   "execution_count": 158,
   "metadata": {},
   "outputs": [
    {
     "data": {
      "text/html": [
       "<svg xmlns=\"http://www.w3.org/2000/svg\" xmlns:xlink=\"http://www.w3.org/1999/xlink\" xml:lang=\"en\" id=\"0dcf00a5e4c24ffa8943c0bc7fa741da-0\" class=\"displacy\" width=\"1800\" height=\"487.0\" direction=\"ltr\" style=\"max-width: none; height: 487.0px; color: #000000; background: #ffffff; font-family: Arial; direction: ltr\">\n",
       "<text class=\"displacy-token\" fill=\"currentColor\" text-anchor=\"middle\" y=\"397.0\">\n",
       "    <tspan class=\"displacy-word\" fill=\"currentColor\" x=\"50\">What</tspan>\n",
       "    <tspan class=\"displacy-tag\" dy=\"2em\" fill=\"currentColor\" x=\"50\">PRON</tspan>\n",
       "</text>\n",
       "\n",
       "<text class=\"displacy-token\" fill=\"currentColor\" text-anchor=\"middle\" y=\"397.0\">\n",
       "    <tspan class=\"displacy-word\" fill=\"currentColor\" x=\"225\">do</tspan>\n",
       "    <tspan class=\"displacy-tag\" dy=\"2em\" fill=\"currentColor\" x=\"225\">AUX</tspan>\n",
       "</text>\n",
       "\n",
       "<text class=\"displacy-token\" fill=\"currentColor\" text-anchor=\"middle\" y=\"397.0\">\n",
       "    <tspan class=\"displacy-word\" fill=\"currentColor\" x=\"400\">you</tspan>\n",
       "    <tspan class=\"displacy-tag\" dy=\"2em\" fill=\"currentColor\" x=\"400\">PRON</tspan>\n",
       "</text>\n",
       "\n",
       "<text class=\"displacy-token\" fill=\"currentColor\" text-anchor=\"middle\" y=\"397.0\">\n",
       "    <tspan class=\"displacy-word\" fill=\"currentColor\" x=\"575\">think</tspan>\n",
       "    <tspan class=\"displacy-tag\" dy=\"2em\" fill=\"currentColor\" x=\"575\">VERB</tspan>\n",
       "</text>\n",
       "\n",
       "<text class=\"displacy-token\" fill=\"currentColor\" text-anchor=\"middle\" y=\"397.0\">\n",
       "    <tspan class=\"displacy-word\" fill=\"currentColor\" x=\"750\">of</tspan>\n",
       "    <tspan class=\"displacy-tag\" dy=\"2em\" fill=\"currentColor\" x=\"750\">ADP</tspan>\n",
       "</text>\n",
       "\n",
       "<text class=\"displacy-token\" fill=\"currentColor\" text-anchor=\"middle\" y=\"397.0\">\n",
       "    <tspan class=\"displacy-word\" fill=\"currentColor\" x=\"925\">the</tspan>\n",
       "    <tspan class=\"displacy-tag\" dy=\"2em\" fill=\"currentColor\" x=\"925\">DET</tspan>\n",
       "</text>\n",
       "\n",
       "<text class=\"displacy-token\" fill=\"currentColor\" text-anchor=\"middle\" y=\"397.0\">\n",
       "    <tspan class=\"displacy-word\" fill=\"currentColor\" x=\"1100\">Arabic</tspan>\n",
       "    <tspan class=\"displacy-tag\" dy=\"2em\" fill=\"currentColor\" x=\"1100\">ADJ</tspan>\n",
       "</text>\n",
       "\n",
       "<text class=\"displacy-token\" fill=\"currentColor\" text-anchor=\"middle\" y=\"397.0\">\n",
       "    <tspan class=\"displacy-word\" fill=\"currentColor\" x=\"1275\">Russian</tspan>\n",
       "    <tspan class=\"displacy-tag\" dy=\"2em\" fill=\"currentColor\" x=\"1275\">ADJ</tspan>\n",
       "</text>\n",
       "\n",
       "<text class=\"displacy-token\" fill=\"currentColor\" text-anchor=\"middle\" y=\"397.0\">\n",
       "    <tspan class=\"displacy-word\" fill=\"currentColor\" x=\"1450\">mix</tspan>\n",
       "    <tspan class=\"displacy-tag\" dy=\"2em\" fill=\"currentColor\" x=\"1450\">NOUN</tspan>\n",
       "</text>\n",
       "\n",
       "<text class=\"displacy-token\" fill=\"currentColor\" text-anchor=\"middle\" y=\"397.0\">\n",
       "    <tspan class=\"displacy-word\" fill=\"currentColor\" x=\"1625\">️</tspan>\n",
       "    <tspan class=\"displacy-tag\" dy=\"2em\" fill=\"currentColor\" x=\"1625\">X</tspan>\n",
       "</text>\n",
       "\n",
       "<g class=\"displacy-arrow\">\n",
       "    <path class=\"displacy-arc\" id=\"arrow-0dcf00a5e4c24ffa8943c0bc7fa741da-0-0\" stroke-width=\"2px\" d=\"M70,352.0 C70,89.5 570.0,89.5 570.0,352.0\" fill=\"none\" stroke=\"currentColor\"/>\n",
       "    <text dy=\"1.25em\" style=\"font-size: 0.8em; letter-spacing: 1px\">\n",
       "        <textPath xlink:href=\"#arrow-0dcf00a5e4c24ffa8943c0bc7fa741da-0-0\" class=\"displacy-label\" startOffset=\"50%\" side=\"left\" fill=\"currentColor\" text-anchor=\"middle\">dobj</textPath>\n",
       "    </text>\n",
       "    <path class=\"displacy-arrowhead\" d=\"M70,354.0 L62,342.0 78,342.0\" fill=\"currentColor\"/>\n",
       "</g>\n",
       "\n",
       "<g class=\"displacy-arrow\">\n",
       "    <path class=\"displacy-arc\" id=\"arrow-0dcf00a5e4c24ffa8943c0bc7fa741da-0-1\" stroke-width=\"2px\" d=\"M245,352.0 C245,177.0 565.0,177.0 565.0,352.0\" fill=\"none\" stroke=\"currentColor\"/>\n",
       "    <text dy=\"1.25em\" style=\"font-size: 0.8em; letter-spacing: 1px\">\n",
       "        <textPath xlink:href=\"#arrow-0dcf00a5e4c24ffa8943c0bc7fa741da-0-1\" class=\"displacy-label\" startOffset=\"50%\" side=\"left\" fill=\"currentColor\" text-anchor=\"middle\">aux</textPath>\n",
       "    </text>\n",
       "    <path class=\"displacy-arrowhead\" d=\"M245,354.0 L237,342.0 253,342.0\" fill=\"currentColor\"/>\n",
       "</g>\n",
       "\n",
       "<g class=\"displacy-arrow\">\n",
       "    <path class=\"displacy-arc\" id=\"arrow-0dcf00a5e4c24ffa8943c0bc7fa741da-0-2\" stroke-width=\"2px\" d=\"M420,352.0 C420,264.5 560.0,264.5 560.0,352.0\" fill=\"none\" stroke=\"currentColor\"/>\n",
       "    <text dy=\"1.25em\" style=\"font-size: 0.8em; letter-spacing: 1px\">\n",
       "        <textPath xlink:href=\"#arrow-0dcf00a5e4c24ffa8943c0bc7fa741da-0-2\" class=\"displacy-label\" startOffset=\"50%\" side=\"left\" fill=\"currentColor\" text-anchor=\"middle\">nsubj</textPath>\n",
       "    </text>\n",
       "    <path class=\"displacy-arrowhead\" d=\"M420,354.0 L412,342.0 428,342.0\" fill=\"currentColor\"/>\n",
       "</g>\n",
       "\n",
       "<g class=\"displacy-arrow\">\n",
       "    <path class=\"displacy-arc\" id=\"arrow-0dcf00a5e4c24ffa8943c0bc7fa741da-0-3\" stroke-width=\"2px\" d=\"M595,352.0 C595,264.5 735.0,264.5 735.0,352.0\" fill=\"none\" stroke=\"currentColor\"/>\n",
       "    <text dy=\"1.25em\" style=\"font-size: 0.8em; letter-spacing: 1px\">\n",
       "        <textPath xlink:href=\"#arrow-0dcf00a5e4c24ffa8943c0bc7fa741da-0-3\" class=\"displacy-label\" startOffset=\"50%\" side=\"left\" fill=\"currentColor\" text-anchor=\"middle\">prep</textPath>\n",
       "    </text>\n",
       "    <path class=\"displacy-arrowhead\" d=\"M735.0,354.0 L743.0,342.0 727.0,342.0\" fill=\"currentColor\"/>\n",
       "</g>\n",
       "\n",
       "<g class=\"displacy-arrow\">\n",
       "    <path class=\"displacy-arc\" id=\"arrow-0dcf00a5e4c24ffa8943c0bc7fa741da-0-4\" stroke-width=\"2px\" d=\"M945,352.0 C945,89.5 1445.0,89.5 1445.0,352.0\" fill=\"none\" stroke=\"currentColor\"/>\n",
       "    <text dy=\"1.25em\" style=\"font-size: 0.8em; letter-spacing: 1px\">\n",
       "        <textPath xlink:href=\"#arrow-0dcf00a5e4c24ffa8943c0bc7fa741da-0-4\" class=\"displacy-label\" startOffset=\"50%\" side=\"left\" fill=\"currentColor\" text-anchor=\"middle\">det</textPath>\n",
       "    </text>\n",
       "    <path class=\"displacy-arrowhead\" d=\"M945,354.0 L937,342.0 953,342.0\" fill=\"currentColor\"/>\n",
       "</g>\n",
       "\n",
       "<g class=\"displacy-arrow\">\n",
       "    <path class=\"displacy-arc\" id=\"arrow-0dcf00a5e4c24ffa8943c0bc7fa741da-0-5\" stroke-width=\"2px\" d=\"M1120,352.0 C1120,177.0 1440.0,177.0 1440.0,352.0\" fill=\"none\" stroke=\"currentColor\"/>\n",
       "    <text dy=\"1.25em\" style=\"font-size: 0.8em; letter-spacing: 1px\">\n",
       "        <textPath xlink:href=\"#arrow-0dcf00a5e4c24ffa8943c0bc7fa741da-0-5\" class=\"displacy-label\" startOffset=\"50%\" side=\"left\" fill=\"currentColor\" text-anchor=\"middle\">amod</textPath>\n",
       "    </text>\n",
       "    <path class=\"displacy-arrowhead\" d=\"M1120,354.0 L1112,342.0 1128,342.0\" fill=\"currentColor\"/>\n",
       "</g>\n",
       "\n",
       "<g class=\"displacy-arrow\">\n",
       "    <path class=\"displacy-arc\" id=\"arrow-0dcf00a5e4c24ffa8943c0bc7fa741da-0-6\" stroke-width=\"2px\" d=\"M1295,352.0 C1295,264.5 1435.0,264.5 1435.0,352.0\" fill=\"none\" stroke=\"currentColor\"/>\n",
       "    <text dy=\"1.25em\" style=\"font-size: 0.8em; letter-spacing: 1px\">\n",
       "        <textPath xlink:href=\"#arrow-0dcf00a5e4c24ffa8943c0bc7fa741da-0-6\" class=\"displacy-label\" startOffset=\"50%\" side=\"left\" fill=\"currentColor\" text-anchor=\"middle\">amod</textPath>\n",
       "    </text>\n",
       "    <path class=\"displacy-arrowhead\" d=\"M1295,354.0 L1287,342.0 1303,342.0\" fill=\"currentColor\"/>\n",
       "</g>\n",
       "\n",
       "<g class=\"displacy-arrow\">\n",
       "    <path class=\"displacy-arc\" id=\"arrow-0dcf00a5e4c24ffa8943c0bc7fa741da-0-7\" stroke-width=\"2px\" d=\"M770,352.0 C770,2.0 1450.0,2.0 1450.0,352.0\" fill=\"none\" stroke=\"currentColor\"/>\n",
       "    <text dy=\"1.25em\" style=\"font-size: 0.8em; letter-spacing: 1px\">\n",
       "        <textPath xlink:href=\"#arrow-0dcf00a5e4c24ffa8943c0bc7fa741da-0-7\" class=\"displacy-label\" startOffset=\"50%\" side=\"left\" fill=\"currentColor\" text-anchor=\"middle\">pobj</textPath>\n",
       "    </text>\n",
       "    <path class=\"displacy-arrowhead\" d=\"M1450.0,354.0 L1458.0,342.0 1442.0,342.0\" fill=\"currentColor\"/>\n",
       "</g>\n",
       "\n",
       "<g class=\"displacy-arrow\">\n",
       "    <path class=\"displacy-arc\" id=\"arrow-0dcf00a5e4c24ffa8943c0bc7fa741da-0-8\" stroke-width=\"2px\" d=\"M1470,352.0 C1470,264.5 1610.0,264.5 1610.0,352.0\" fill=\"none\" stroke=\"currentColor\"/>\n",
       "    <text dy=\"1.25em\" style=\"font-size: 0.8em; letter-spacing: 1px\">\n",
       "        <textPath xlink:href=\"#arrow-0dcf00a5e4c24ffa8943c0bc7fa741da-0-8\" class=\"displacy-label\" startOffset=\"50%\" side=\"left\" fill=\"currentColor\" text-anchor=\"middle\">appos</textPath>\n",
       "    </text>\n",
       "    <path class=\"displacy-arrowhead\" d=\"M1610.0,354.0 L1618.0,342.0 1602.0,342.0\" fill=\"currentColor\"/>\n",
       "</g>\n",
       "</svg>"
      ],
      "text/plain": [
       "<IPython.core.display.HTML object>"
      ]
     },
     "metadata": {},
     "output_type": "display_data"
    }
   ],
   "source": [
    "displacy.render(doc)"
   ]
  },
  {
   "cell_type": "code",
   "execution_count": 66,
   "metadata": {},
   "outputs": [
    {
     "data": {
      "text/plain": [
       "['do think', 'think', 'think of']"
      ]
     },
     "execution_count": 66,
     "metadata": {},
     "output_type": "execute_result"
    }
   ],
   "source": [
    "frags"
   ]
  },
  {
   "cell_type": "code",
   "execution_count": 95,
   "metadata": {},
   "outputs": [],
   "source": [
    "\n",
    "def extract_fragments(text):\n",
    "    \"\"\"\n",
    "    Following the intuition that the\n",
    "    bulk of this functional information is contained in\n",
    "    the root of a question’s dependency parse along\n",
    "    with its outgoing arcs (Iyyer et al., 2014a), we\n",
    "    take the fragments of a question to be the root of\n",
    "    its parse tree, along with each (root, child) pair.\n",
    "    To capture cases when the operational word in\n",
    "    the question is not connected to its root (such as\n",
    "    “What...”), we also consider the initial unigram\n",
    "    and bigram of a question as fragments. The following\n",
    "    question has 5 fragments:\n",
    "        what, what is, going→*, is←going and going→do\n",
    "        \n",
    "        What is the minister going to do about ... ?\n",
    "    \"\"\"\n",
    "    doc = nlp(clean_title(text))\n",
    "    if len(doc) == 0:\n",
    "        return []\n",
    "    fragments = [str(doc[0]), str(doc[:2])]\n",
    "    # We take as NPs subtrees connected to the root with the\n",
    "    # following: nsubj, nsubjpass, dobj, iobj, pobj, attr.\n",
    "\n",
    "    np_deps = [\"nsubj\", \"nsubjpass\", \"dobj\", \"iobj\", \"pobj\", \"attr\"]\n",
    "    root = None\n",
    "    for tok in doc:\n",
    "\n",
    "        if tok.head.dep_ == \"ROOT\" and tok.dep_ not in np_deps:\n",
    "            if tok.dep_ == \"ROOT\":\n",
    "                root = tok\n",
    "                fragments.append(str(tok))\n",
    "                continue\n",
    "            if not root:\n",
    "                fragments.append(\"{} {}\".format(tok, tok.head))\n",
    "                continue\n",
    "            else:\n",
    "                fragments.append(\"{} {}\".format(tok.head, tok))\n",
    "                continue\n",
    "    return fragments"
   ]
  },
  {
   "cell_type": "code",
   "execution_count": 96,
   "metadata": {},
   "outputs": [],
   "source": [
    "fragments = df.title.apply(extract_fragments)"
   ]
  },
  {
   "cell_type": "code",
   "execution_count": 97,
   "metadata": {},
   "outputs": [
    {
     "data": {
      "text/plain": [
       "id\n",
       "dh3ha2                                [How, Hows, How s, s]\n",
       "dh3b61           [What, What do, do think, think, think of]\n",
       "dh37sw    [Kinda, Kinda low, Kinda esteem, self esteem, ...\n",
       "dh368y    [Got, Got a, Got are, are, are with, are some,...\n",
       "dh32ch                             [RateMe, RateMe, RateMe]\n",
       "Name: title, dtype: object"
      ]
     },
     "execution_count": 97,
     "metadata": {},
     "output_type": "execute_result"
    }
   ],
   "source": [
    "fragments.head()"
   ]
  },
  {
   "cell_type": "code",
   "execution_count": 98,
   "metadata": {},
   "outputs": [],
   "source": [
    "frag_list = []\n",
    "for frags in fragments.to_numpy():\n",
    "    frag_list += frags"
   ]
  },
  {
   "cell_type": "code",
   "execution_count": 106,
   "metadata": {},
   "outputs": [],
   "source": [
    "frag_list = pd.Series(frag_list).str.strip().str.lower()"
   ]
  },
  {
   "cell_type": "code",
   "execution_count": 153,
   "metadata": {},
   "outputs": [
    {
     "data": {
      "text/plain": [
       "rate me            8430\n",
       "be honest          3735\n",
       "just curious       2809\n",
       "looking for        2688\n",
       "please rate        1390\n",
       "rate please        1155\n",
       "please be          1146\n",
       "do think           1083\n",
       "rate and            911\n",
       "give me             892\n",
       "think do            889\n",
       "do look             739\n",
       "what do             693\n",
       "honest opinions     640\n",
       "just wondering      638\n",
       "let know            626\n",
       "rate my             603\n",
       "always been         594\n",
       "want know           577\n",
       "just want           555\n",
       "never had           521\n",
       "just got            514\n",
       "be please           511\n",
       "m curious           492\n",
       "how look            465\n",
       "just looking        465\n",
       "look do             460\n",
       "curious about       429\n",
       "curious think       428\n",
       "am i                424\n",
       "first time          416\n",
       "not sure            410\n",
       "how do              405\n",
       "rate honestly       396\n",
       "rate 110            380\n",
       "i have              374\n",
       "would like          356\n",
       "would love          334\n",
       "lost and            330\n",
       "been told           330\n",
       "’m curious          326\n",
       "know do             317\n",
       "would rate          296\n",
       "curious see         293\n",
       "never been          290\n",
       "be and              289\n",
       "do know             288\n",
       "like know           277\n",
       "curious to          270\n",
       "just turned         267\n",
       "dtype: int64"
      ]
     },
     "execution_count": 153,
     "metadata": {},
     "output_type": "execute_result"
    }
   ],
   "source": [
    "frag_list[frag_list.apply(lambda x: len(x.split()) >= 2)].value_counts()[:50]"
   ]
  },
  {
   "cell_type": "code",
   "execution_count": null,
   "metadata": {},
   "outputs": [],
   "source": []
  }
 ],
 "metadata": {
  "kernelspec": {
   "display_name": "Python 3",
   "language": "python",
   "name": "python3"
  },
  "language_info": {
   "codemirror_mode": {
    "name": "ipython",
    "version": 3
   },
   "file_extension": ".py",
   "mimetype": "text/x-python",
   "name": "python",
   "nbconvert_exporter": "python",
   "pygments_lexer": "ipython3",
   "version": "3.7.4"
  }
 },
 "nbformat": 4,
 "nbformat_minor": 2
}
