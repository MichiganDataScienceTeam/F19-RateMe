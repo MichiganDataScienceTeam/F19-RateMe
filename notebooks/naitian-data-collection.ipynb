{
 "cells": [
  {
   "cell_type": "code",
   "execution_count": 1,
   "metadata": {},
   "outputs": [],
   "source": [
    "import requests"
   ]
  },
  {
   "cell_type": "code",
   "execution_count": 18,
   "metadata": {},
   "outputs": [],
   "source": [
    "import calendar\n",
    "import datetime"
   ]
  },
  {
   "cell_type": "code",
   "execution_count": 21,
   "metadata": {},
   "outputs": [],
   "source": [
    "now_utc = calendar.timegm(datetime.datetime.now().utctimetuple())"
   ]
  },
  {
   "cell_type": "code",
   "execution_count": 43,
   "metadata": {},
   "outputs": [
    {
     "data": {
      "text/plain": [
       "1262304000"
      ]
     },
     "execution_count": 43,
     "metadata": {},
     "output_type": "execute_result"
    }
   ],
   "source": [
    "calendar.timegm(datetime.datetime(2010, 1, 1).utctimetuple())"
   ]
  },
  {
   "cell_type": "code",
   "execution_count": 39,
   "metadata": {},
   "outputs": [],
   "source": [
    "url = (\"https://api.pushshift.io/reddit/search/submission/\"\n",
    " \"?subreddit=rateme&sort=desc&sort_type=created_utc&\"\n",
    " \"before=1570295071&size=1000\").format(now_utc)"
   ]
  },
  {
   "cell_type": "code",
   "execution_count": 40,
   "metadata": {},
   "outputs": [],
   "source": [
    "r = requests.get(url)"
   ]
  },
  {
   "cell_type": "code",
   "execution_count": 41,
   "metadata": {},
   "outputs": [],
   "source": [
    "response_data = r.json()['data']"
   ]
  },
  {
   "cell_type": "code",
   "execution_count": null,
   "metadata": {},
   "outputs": [],
   "source": [
    "1570272341"
   ]
  },
  {
   "cell_type": "code",
   "execution_count": null,
   "metadata": {},
   "outputs": [],
   "source": [
    "1570926123"
   ]
  },
  {
   "cell_type": "code",
   "execution_count": 45,
   "metadata": {},
   "outputs": [
    {
     "data": {
      "text/plain": [
       "datetime.datetime(2019, 10, 12, 20, 22, 3)"
      ]
     },
     "execution_count": 45,
     "metadata": {},
     "output_type": "execute_result"
    }
   ],
   "source": [
    "datetime.datetime.fromtimestamp(1570926123)"
   ]
  },
  {
   "cell_type": "code",
   "execution_count": 47,
   "metadata": {},
   "outputs": [
    {
     "name": "stdout",
     "output_type": "stream",
     "text": [
      "Added posts from 2019-10-05 07:26:32 to 2019-10-12 20:36:58\n",
      "Added posts from 2019-09-26 20:27:27 to 2019-10-05 06:44:58\n",
      "Added posts from 2019-09-18 18:54:04 to 2019-09-26 20:22:35\n",
      "Added posts from 2019-09-11 13:31:12 to 2019-09-18 18:44:44\n",
      "Added posts from 2019-09-03 19:37:00 to 2019-09-11 13:18:37\n",
      "Added posts from 2019-08-27 16:45:58 to 2019-09-03 19:21:06\n",
      "Added posts from 2019-08-21 02:45:15 to 2019-08-27 16:40:18\n",
      "Added posts from 2019-08-14 11:29:09 to 2019-08-21 02:35:15\n",
      "Added posts from 2019-08-07 22:39:50 to 2019-08-14 11:28:10\n",
      "Added posts from 2019-07-31 18:36:43 to 2019-08-07 22:38:24\n",
      "Added posts from 2019-07-25 05:11:25 to 2019-07-31 18:21:16\n",
      "Added posts from 2019-07-18 16:11:06 to 2019-07-25 05:08:31\n",
      "Added posts from 2019-07-12 08:43:23 to 2019-07-18 16:06:15\n",
      "Added posts from 2019-07-05 10:46:59 to 2019-07-12 08:41:50\n",
      "Added posts from 2019-06-27 18:24:56 to 2019-07-05 10:42:36\n",
      "Added posts from 2019-06-21 06:32:28 to 2019-06-27 18:22:52\n",
      "Added posts from 2019-06-14 19:30:20 to 2019-06-21 06:01:53\n",
      "Added posts from 2019-06-08 08:03:58 to 2019-06-14 19:28:29\n",
      "Added posts from 2019-05-31 16:50:42 to 2019-06-08 07:53:27\n",
      "Added posts from 2019-05-24 16:52:39 to 2019-05-31 16:49:57\n",
      "Added posts from 2019-05-18 12:38:13 to 2019-05-24 16:50:12\n",
      "Added posts from 2019-05-11 09:53:46 to 2019-05-18 12:32:38\n",
      "Added posts from 2019-05-04 04:12:06 to 2019-05-11 09:12:59\n",
      "Added posts from 2019-04-26 21:00:28 to 2019-05-04 03:05:20\n",
      "Added posts from 2019-04-19 13:16:29 to 2019-04-26 20:40:04\n",
      "Added posts from 2019-04-11 23:14:36 to 2019-04-19 13:07:57\n",
      "Added posts from 2019-04-04 11:18:59 to 2019-04-11 23:08:03\n",
      "Added posts from 2019-03-27 18:50:05 to 2019-04-04 11:13:30\n",
      "Added posts from 2019-03-20 12:29:02 to 2019-03-27 18:18:42\n",
      "Added posts from 2019-03-12 18:23:18 to 2019-03-20 12:23:44\n",
      "Added posts from 2019-03-04 14:35:10 to 2019-03-12 18:17:15\n",
      "Added posts from 2019-02-24 22:53:11 to 2019-03-04 14:20:34\n",
      "Added posts from 2019-02-17 06:25:52 to 2019-02-24 22:45:00\n",
      "Added posts from 2019-02-09 15:16:11 to 2019-02-17 06:19:20\n",
      "Added posts from 2019-02-02 03:18:31 to 2019-02-09 15:05:45\n",
      "Added posts from 2019-01-24 22:33:58 to 2019-02-02 02:59:58\n",
      "Added posts from 2019-01-17 00:04:40 to 2019-01-24 22:26:32\n",
      "Added posts from 2019-01-09 11:21:03 to 2019-01-16 23:56:03\n",
      "Added posts from 2019-01-02 15:00:20 to 2019-01-09 11:15:51\n",
      "Added posts from 2018-12-26 21:30:19 to 2019-01-02 14:48:55\n",
      "Added posts from 2018-12-18 10:11:59 to 2018-12-26 21:23:02\n",
      "Added posts from 2018-12-09 18:39:37 to 2018-12-18 09:52:36\n",
      "Added posts from 2018-12-01 13:48:45 to 2018-12-09 18:39:20\n",
      "Added posts from 2018-11-22 10:52:07 to 2018-12-01 13:44:51\n",
      "Added posts from 2018-11-12 19:19:05 to 2018-11-22 10:33:17\n",
      "Added posts from 2018-11-04 08:28:45 to 2018-11-12 19:17:46\n",
      "Added posts from 2018-10-26 04:43:27 to 2018-11-04 08:14:50\n",
      "Added posts from 2018-10-16 23:16:27 to 2018-10-26 04:33:06\n",
      "Added posts from 2018-10-08 11:30:47 to 2018-10-16 23:13:42\n",
      "Added posts from 2018-09-29 12:38:47 to 2018-10-08 11:19:19\n",
      "Added posts from 2018-09-19 21:29:08 to 2018-09-29 12:33:36\n",
      "Added posts from 2018-09-11 07:14:50 to 2018-09-19 20:51:57\n",
      "Added posts from 2018-09-01 02:47:25 to 2018-09-11 06:49:05\n",
      "Added posts from 2018-08-23 02:52:28 to 2018-09-01 01:09:16\n",
      "Added posts from 2018-08-14 09:21:59 to 2018-08-23 02:19:14\n",
      "Added posts from 2018-08-05 16:24:20 to 2018-08-14 07:59:09\n",
      "Added posts from 2018-07-27 14:12:55 to 2018-08-05 16:18:07\n",
      "Added posts from 2018-07-18 21:20:17 to 2018-07-27 13:55:53\n",
      "Added posts from 2018-07-11 08:22:03 to 2018-07-18 21:13:49\n",
      "Added posts from 2018-07-01 21:40:42 to 2018-07-11 07:51:22\n",
      "Added posts from 2018-06-24 15:52:56 to 2018-07-01 21:32:14\n",
      "Added posts from 2018-06-16 18:39:41 to 2018-06-24 15:47:45\n",
      "Added posts from 2018-06-07 15:21:31 to 2018-06-16 18:31:56\n",
      "Added posts from 2018-05-29 17:28:26 to 2018-06-07 14:56:56\n",
      "Added posts from 2018-05-20 20:41:17 to 2018-05-29 17:17:02\n",
      "Added posts from 2018-05-11 03:01:22 to 2018-05-20 20:39:44\n",
      "Added posts from 2018-04-30 13:30:41 to 2018-05-11 02:32:29\n",
      "Added posts from 2018-04-20 20:00:09 to 2018-04-30 13:22:49\n",
      "Added posts from 2018-04-10 08:21:48 to 2018-04-20 19:54:19\n",
      "Added posts from 2018-03-31 15:46:01 to 2018-04-10 08:20:31\n",
      "Added posts from 2018-03-21 09:15:48 to 2018-03-31 15:35:32\n",
      "Added posts from 2018-03-11 18:15:59 to 2018-03-21 08:57:27\n",
      "Added posts from 2018-03-01 11:21:15 to 2018-03-11 18:14:57\n",
      "Added posts from 2018-02-18 16:53:02 to 2018-03-01 11:18:36\n",
      "Added posts from 2018-02-07 17:19:06 to 2018-02-18 16:47:09\n",
      "Added posts from 2018-01-27 20:32:23 to 2018-02-07 17:18:47\n",
      "Added posts from 2018-01-17 04:25:01 to 2018-01-27 20:26:36\n",
      "Added posts from 2018-01-06 15:19:32 to 2018-01-17 04:23:13\n",
      "Added posts from 2017-12-26 21:25:30 to 2018-01-06 15:09:32\n"
     ]
    }
   ],
   "source": [
    "timestamp = calendar.timegm(datetime.datetime.now().utctimetuple())\n",
    "first = calendar.timegm(datetime.datetime(2018, 1, 1).utctimetuple())\n",
    "posts = []\n",
    "while timestamp > first:\n",
    "    url = (\"https://api.pushshift.io/reddit/search/submission/\"\n",
    "           \"?subreddit=rateme&sort=desc&sort_type=created_utc&\"\n",
    "           \"before={}&size=1000\").format(timestamp)\n",
    "    r = requests.get(url).json()\n",
    "    posts += r['data']\n",
    "    print(\"Added posts from {} to {}\".format(datetime.datetime.fromtimestamp(r['data'][-1]['created_utc']),\n",
    "                                             datetime.datetime.fromtimestamp(r['data'][0]['created_utc'])))\n",
    "    timestamp = r['data'][-1]['created_utc']"
   ]
  },
  {
   "cell_type": "code",
   "execution_count": 50,
   "metadata": {
    "collapsed": true
   },
   "outputs": [
    {
     "name": "stdout",
     "output_type": "stream",
     "text": [
      "Added comments from 2019-10-11 22:04:54 to 2019-10-12 20:42:35\n",
      "Added comments from 2019-10-10 22:32:55 to 2019-10-11 22:04:47\n",
      "Added comments from 2019-10-09 21:35:07 to 2019-10-10 22:32:35\n",
      "Added comments from 2019-10-08 19:14:49 to 2019-10-09 21:34:46\n",
      "Added comments from 2019-10-07 09:32:16 to 2019-10-08 19:14:39\n",
      "Added comments from 2019-10-06 10:52:22 to 2019-10-07 09:31:12\n",
      "Added comments from 2019-10-05 06:33:40 to 2019-10-06 10:52:04\n",
      "Added comments from 2019-10-04 00:42:47 to 2019-10-05 06:29:10\n",
      "Added comments from 2019-10-03 02:27:03 to 2019-10-04 00:41:06\n",
      "Added comments from 2019-10-01 22:28:55 to 2019-10-03 02:26:11\n",
      "Added comments from 2019-09-30 22:43:49 to 2019-10-01 22:27:53\n",
      "Added comments from 2019-09-29 20:53:13 to 2019-09-30 22:43:45\n",
      "Added comments from 2019-09-28 16:33:08 to 2019-09-29 20:50:27\n",
      "Added comments from 2019-09-27 14:25:54 to 2019-09-28 16:32:44\n",
      "Added comments from 2019-09-26 10:09:20 to 2019-09-27 14:25:38\n",
      "Added comments from 2019-09-25 00:39:36 to 2019-09-26 10:08:06\n",
      "Added comments from 2019-09-23 23:39:15 to 2019-09-25 00:37:45\n",
      "Added comments from 2019-09-22 23:32:59 to 2019-09-23 23:37:51\n",
      "Added comments from 2019-09-21 22:23:23 to 2019-09-22 23:32:43\n",
      "Added comments from 2019-09-21 09:22:10 to 2019-09-21 22:22:31\n",
      "Added comments from 2019-09-20 11:15:48 to 2019-09-21 09:21:41\n",
      "Added comments from 2019-09-19 15:22:59 to 2019-09-20 11:15:00\n",
      "Added comments from 2019-09-18 16:01:57 to 2019-09-19 15:22:50\n",
      "Added comments from 2019-09-17 11:49:06 to 2019-09-18 16:01:29\n",
      "Added comments from 2019-09-16 08:39:33 to 2019-09-17 11:48:51\n",
      "Added comments from 2019-09-15 14:30:01 to 2019-09-16 08:37:43\n",
      "Added comments from 2019-09-14 10:59:31 to 2019-09-15 14:29:25\n",
      "Added comments from 2019-09-13 04:44:36 to 2019-09-14 10:58:42\n",
      "Added comments from 2019-09-12 06:36:27 to 2019-09-13 04:42:17\n",
      "Added comments from 2019-09-10 19:19:03 to 2019-09-12 06:36:00\n",
      "Added comments from 2019-09-09 17:34:44 to 2019-09-10 19:17:08\n",
      "Added comments from 2019-09-08 08:35:58 to 2019-09-09 17:34:13\n",
      "Added comments from 2019-09-07 04:09:30 to 2019-09-08 08:35:50\n",
      "Added comments from 2019-09-05 18:59:29 to 2019-09-07 04:08:21\n",
      "Added comments from 2019-09-04 20:36:19 to 2019-09-05 18:59:24\n",
      "Added comments from 2019-09-03 09:05:21 to 2019-09-04 20:34:11\n",
      "Added comments from 2019-09-02 10:07:50 to 2019-09-03 08:59:51\n",
      "Added comments from 2019-09-01 02:59:04 to 2019-09-02 10:07:42\n",
      "Added comments from 2019-08-30 20:22:26 to 2019-09-01 02:59:01\n",
      "Added comments from 2019-08-29 05:13:21 to 2019-08-30 20:20:04\n",
      "Added comments from 2019-08-28 01:25:47 to 2019-08-29 05:06:20\n",
      "Added comments from 2019-08-26 21:02:04 to 2019-08-28 01:24:58\n",
      "Added comments from 2019-08-25 23:17:08 to 2019-08-26 21:00:22\n",
      "Added comments from 2019-08-25 01:06:57 to 2019-08-25 23:16:24\n",
      "Added comments from 2019-08-24 08:48:43 to 2019-08-25 01:06:55\n",
      "Added comments from 2019-08-23 01:34:58 to 2019-08-24 08:43:25\n",
      "Added comments from 2019-08-21 19:37:54 to 2019-08-23 01:33:58\n",
      "Added comments from 2019-08-20 08:19:23 to 2019-08-21 19:35:09\n",
      "Added comments from 2019-08-19 02:08:36 to 2019-08-20 08:19:01\n",
      "Added comments from 2019-08-17 23:26:21 to 2019-08-19 02:06:14\n",
      "Added comments from 2019-08-16 17:41:56 to 2019-08-17 23:23:57\n",
      "Added comments from 2019-08-15 15:16:22 to 2019-08-16 17:41:52\n",
      "Added comments from 2019-08-14 16:39:05 to 2019-08-15 15:13:24\n",
      "Added comments from 2019-08-13 21:41:36 to 2019-08-14 16:37:59\n",
      "Added comments from 2019-08-13 08:16:37 to 2019-08-13 21:38:57\n",
      "Added comments from 2019-08-12 14:51:13 to 2019-08-13 08:16:13\n",
      "Added comments from 2019-08-11 20:51:00 to 2019-08-12 14:51:00\n",
      "Added comments from 2019-08-11 04:09:36 to 2019-08-11 20:50:06\n",
      "Added comments from 2019-08-10 11:35:37 to 2019-08-11 04:09:25\n",
      "Added comments from 2019-08-09 16:23:37 to 2019-08-10 11:31:24\n",
      "Added comments from 2019-08-08 17:41:09 to 2019-08-09 16:23:32\n",
      "Added comments from 2019-08-07 11:07:39 to 2019-08-08 17:36:38\n",
      "Added comments from 2019-08-06 15:55:56 to 2019-08-07 11:03:23\n",
      "Added comments from 2019-08-05 23:11:55 to 2019-08-06 15:54:52\n",
      "Added comments from 2019-08-05 04:03:52 to 2019-08-05 23:10:21\n",
      "Added comments from 2019-08-04 02:01:24 to 2019-08-05 04:03:27\n",
      "Added comments from 2019-08-03 00:43:01 to 2019-08-04 01:59:54\n",
      "Added comments from 2019-08-01 21:02:45 to 2019-08-03 00:42:36\n",
      "Added comments from 2019-07-31 23:45:21 to 2019-08-01 21:00:55\n",
      "Added comments from 2019-07-30 23:27:04 to 2019-07-31 23:43:48\n",
      "Added comments from 2019-07-30 10:23:13 to 2019-07-30 23:26:33\n",
      "Added comments from 2019-07-29 00:49:38 to 2019-07-30 10:17:39\n",
      "Added comments from 2019-07-27 23:58:35 to 2019-07-29 00:49:28\n",
      "Added comments from 2019-07-27 06:04:07 to 2019-07-27 23:42:05\n",
      "Added comments from 2019-07-26 11:10:41 to 2019-07-27 06:03:30\n",
      "Added comments from 2019-07-25 18:30:24 to 2019-07-26 11:10:12\n",
      "Added comments from 2019-07-25 05:31:35 to 2019-07-25 18:29:11\n",
      "Added comments from 2019-07-24 12:37:22 to 2019-07-25 05:25:53\n",
      "Added comments from 2019-07-23 15:23:38 to 2019-07-24 12:36:02\n",
      "Added comments from 2019-07-22 16:39:16 to 2019-07-23 15:20:38\n",
      "Added comments from 2019-07-22 00:37:28 to 2019-07-22 16:38:23\n",
      "Added comments from 2019-07-21 08:14:06 to 2019-07-22 00:35:53\n",
      "Added comments from 2019-07-20 09:10:13 to 2019-07-21 08:12:38\n",
      "Added comments from 2019-07-19 07:55:36 to 2019-07-20 08:57:19\n",
      "Added comments from 2019-07-18 11:32:59 to 2019-07-19 07:55:14\n",
      "Added comments from 2019-07-17 15:30:22 to 2019-07-18 11:32:57\n",
      "Added comments from 2019-07-16 20:33:07 to 2019-07-17 15:28:49\n",
      "Added comments from 2019-07-15 20:53:31 to 2019-07-16 20:31:47\n",
      "Added comments from 2019-07-15 06:16:14 to 2019-07-15 20:50:39\n",
      "Added comments from 2019-07-14 16:11:00 to 2019-07-15 06:15:39\n",
      "Added comments from 2019-07-13 22:47:55 to 2019-07-14 16:10:50\n",
      "Added comments from 2019-07-13 05:15:53 to 2019-07-13 22:47:18\n",
      "Added comments from 2019-07-12 06:51:49 to 2019-07-13 05:14:00\n",
      "Added comments from 2019-07-11 11:12:03 to 2019-07-12 06:48:24\n",
      "Added comments from 2019-07-10 16:55:38 to 2019-07-11 11:11:33\n",
      "Added comments from 2019-07-09 17:50:27 to 2019-07-10 16:55:28\n",
      "Added comments from 2019-07-08 19:06:53 to 2019-07-09 17:50:07\n",
      "Added comments from 2019-07-07 22:19:53 to 2019-07-08 19:06:44\n",
      "Added comments from 2019-07-06 19:01:34 to 2019-07-07 22:19:02\n",
      "Added comments from 2019-07-05 18:17:29 to 2019-07-06 19:01:27\n",
      "Added comments from 2019-07-04 12:06:38 to 2019-07-05 18:16:20\n",
      "Added comments from 2019-07-03 13:01:11 to 2019-07-04 12:02:56\n",
      "Added comments from 2019-07-02 15:13:08 to 2019-07-03 13:01:01\n",
      "Added comments from 2019-07-01 18:17:27 to 2019-07-02 15:10:58\n",
      "Added comments from 2019-06-30 18:24:07 to 2019-07-01 18:16:26\n",
      "Added comments from 2019-06-29 20:40:49 to 2019-06-30 18:23:14\n",
      "Added comments from 2019-06-29 00:12:27 to 2019-06-29 20:40:48\n",
      "Added comments from 2019-06-27 22:11:11 to 2019-06-29 00:12:08\n",
      "Added comments from 2019-06-27 07:48:47 to 2019-06-27 22:10:38\n",
      "Added comments from 2019-06-26 16:25:35 to 2019-06-27 07:47:51\n",
      "Added comments from 2019-06-25 20:40:43 to 2019-06-26 16:25:27\n",
      "Added comments from 2019-06-25 02:21:29 to 2019-06-25 20:40:38\n",
      "Added comments from 2019-06-24 12:50:13 to 2019-06-25 02:21:24\n",
      "Added comments from 2019-06-23 11:54:11 to 2019-06-24 12:47:38\n",
      "Added comments from 2019-06-22 11:36:04 to 2019-06-23 11:53:48\n",
      "Added comments from 2019-06-21 12:09:57 to 2019-06-22 11:35:45\n",
      "Added comments from 2019-06-20 13:30:10 to 2019-06-21 12:09:29\n",
      "Added comments from 2019-06-19 19:33:36 to 2019-06-20 13:28:53\n",
      "Added comments from 2019-06-19 01:07:06 to 2019-06-19 19:32:25\n",
      "Added comments from 2019-06-18 12:44:20 to 2019-06-19 01:04:12\n",
      "Added comments from 2019-06-17 18:33:45 to 2019-06-18 12:43:43\n",
      "Added comments from 2019-06-17 03:08:18 to 2019-06-17 18:32:19\n",
      "Added comments from 2019-06-16 09:04:15 to 2019-06-17 03:07:11\n",
      "Added comments from 2019-06-15 14:45:18 to 2019-06-16 09:01:52\n",
      "Added comments from 2019-06-14 19:03:50 to 2019-06-15 14:41:32\n",
      "Added comments from 2019-06-13 21:36:26 to 2019-06-14 19:02:48\n",
      "Added comments from 2019-06-13 01:06:45 to 2019-06-13 21:36:09\n",
      "Added comments from 2019-06-12 10:31:30 to 2019-06-13 01:06:02\n",
      "Added comments from 2019-06-11 14:13:02 to 2019-06-12 10:31:08\n",
      "Added comments from 2019-06-10 19:45:41 to 2019-06-11 14:12:32\n",
      "Added comments from 2019-06-10 02:03:13 to 2019-06-10 19:44:59\n"
     ]
    },
    {
     "name": "stdout",
     "output_type": "stream",
     "text": [
      "Added comments from 2019-06-09 11:34:02 to 2019-06-10 02:02:04\n",
      "Added comments from 2019-06-08 10:07:44 to 2019-06-09 11:33:11\n",
      "Added comments from 2019-06-07 06:00:18 to 2019-06-08 10:07:24\n",
      "Added comments from 2019-06-06 05:01:55 to 2019-06-07 05:57:36\n",
      "Added comments from 2019-06-05 10:50:34 to 2019-06-06 05:01:17\n",
      "Added comments from 2019-06-04 15:07:05 to 2019-06-05 10:49:57\n",
      "Added comments from 2019-06-03 17:19:15 to 2019-06-04 15:06:42\n",
      "Added comments from 2019-06-02 18:46:16 to 2019-06-03 17:18:26\n",
      "Added comments from 2019-06-01 21:09:49 to 2019-06-02 18:45:06\n",
      "Added comments from 2019-05-31 22:23:57 to 2019-06-01 21:06:47\n",
      "Added comments from 2019-05-31 09:20:10 to 2019-05-31 22:23:56\n",
      "Added comments from 2019-05-30 16:58:52 to 2019-05-31 09:18:45\n",
      "Added comments from 2019-05-29 17:51:36 to 2019-05-30 16:58:44\n",
      "Added comments from 2019-05-28 23:28:46 to 2019-05-29 17:50:57\n",
      "Added comments from 2019-05-28 02:26:46 to 2019-05-28 23:27:38\n",
      "Added comments from 2019-05-27 10:24:13 to 2019-05-28 02:26:36\n",
      "Added comments from 2019-05-26 15:17:44 to 2019-05-27 10:24:07\n",
      "Added comments from 2019-05-25 22:23:05 to 2019-05-26 15:16:44\n",
      "Added comments from 2019-05-25 01:26:16 to 2019-05-25 22:22:40\n",
      "Added comments from 2019-05-24 06:48:51 to 2019-05-25 01:23:41\n",
      "Added comments from 2019-05-23 16:21:00 to 2019-05-24 06:48:32\n",
      "Added comments from 2019-05-22 18:38:40 to 2019-05-23 16:20:57\n",
      "Added comments from 2019-05-21 21:56:06 to 2019-05-22 18:38:00\n",
      "Added comments from 2019-05-21 08:04:22 to 2019-05-21 21:55:04\n",
      "Added comments from 2019-05-20 19:37:37 to 2019-05-21 08:04:21\n",
      "Added comments from 2019-05-20 13:12:24 to 2019-05-20 19:37:25\n",
      "Added comments from 2019-05-19 19:06:59 to 2019-05-20 13:11:52\n",
      "Added comments from 2019-05-19 01:11:57 to 2019-05-19 19:06:58\n",
      "Added comments from 2019-05-18 00:13:54 to 2019-05-19 01:11:02\n",
      "Added comments from 2019-05-17 11:18:57 to 2019-05-18 00:13:47\n",
      "Added comments from 2019-05-16 14:14:33 to 2019-05-17 11:18:33\n",
      "Added comments from 2019-05-15 14:28:28 to 2019-05-16 14:13:43\n",
      "Added comments from 2019-05-14 15:25:25 to 2019-05-15 14:28:24\n",
      "Added comments from 2019-05-13 12:14:50 to 2019-05-14 15:24:23\n",
      "Added comments from 2019-05-12 14:25:12 to 2019-05-13 12:14:35\n",
      "Added comments from 2019-05-11 14:56:23 to 2019-05-12 14:23:43\n",
      "Added comments from 2019-05-10 15:01:34 to 2019-05-11 14:53:29\n",
      "Added comments from 2019-05-09 17:35:39 to 2019-05-10 15:00:42\n",
      "Added comments from 2019-05-08 20:41:59 to 2019-05-09 17:34:02\n",
      "Added comments from 2019-05-08 04:08:06 to 2019-05-08 20:41:50\n",
      "Added comments from 2019-05-07 17:41:07 to 2019-05-08 04:07:42\n",
      "Added comments from 2019-05-06 21:54:44 to 2019-05-07 17:40:35\n",
      "Added comments from 2019-05-06 03:01:33 to 2019-05-06 21:54:26\n",
      "Added comments from 2019-05-05 02:01:38 to 2019-05-06 02:59:18\n",
      "Added comments from 2019-05-04 02:12:57 to 2019-05-05 02:01:14\n",
      "Added comments from 2019-05-02 21:58:35 to 2019-05-04 02:09:32\n",
      "Added comments from 2019-05-01 21:05:40 to 2019-05-02 21:57:36\n",
      "Added comments from 2019-04-30 22:31:03 to 2019-05-01 21:05:01\n",
      "Added comments from 2019-04-30 09:33:09 to 2019-04-30 22:31:00\n",
      "Added comments from 2019-04-29 15:03:32 to 2019-04-30 09:33:05\n",
      "Added comments from 2019-04-28 15:39:06 to 2019-04-29 15:03:31\n",
      "Added comments from 2019-04-27 05:17:46 to 2019-04-28 15:38:53\n",
      "Added comments from 2019-04-26 12:52:33 to 2019-04-27 05:17:03\n",
      "Added comments from 2019-04-25 17:39:03 to 2019-04-26 12:52:17\n",
      "Added comments from 2019-04-24 19:48:57 to 2019-04-25 17:38:59\n",
      "Added comments from 2019-04-24 02:48:44 to 2019-04-24 19:48:50\n",
      "Added comments from 2019-04-23 14:03:13 to 2019-04-24 02:48:29\n",
      "Added comments from 2019-04-22 17:07:53 to 2019-04-23 14:03:03\n",
      "Added comments from 2019-04-21 19:12:58 to 2019-04-22 17:07:08\n",
      "Added comments from 2019-04-20 14:16:48 to 2019-04-21 19:12:44\n",
      "Added comments from 2019-04-19 10:57:55 to 2019-04-20 14:15:27\n",
      "Added comments from 2019-04-18 08:21:16 to 2019-04-19 10:53:21\n",
      "Added comments from 2019-04-17 12:29:53 to 2019-04-18 08:19:48\n",
      "Added comments from 2019-04-16 14:10:48 to 2019-04-17 12:27:36\n",
      "Added comments from 2019-04-15 14:29:17 to 2019-04-16 14:10:25\n",
      "Added comments from 2019-04-14 02:31:23 to 2019-04-15 14:28:47\n",
      "Added comments from 2019-04-13 01:19:46 to 2019-04-14 02:30:46\n",
      "Added comments from 2019-04-12 02:09:19 to 2019-04-13 01:18:44\n",
      "Added comments from 2019-04-11 01:56:49 to 2019-04-12 02:07:55\n",
      "Added comments from 2019-04-10 03:57:56 to 2019-04-11 01:55:19\n",
      "Added comments from 2019-04-09 01:59:53 to 2019-04-10 03:56:26\n",
      "Added comments from 2019-04-08 02:27:59 to 2019-04-09 01:57:02\n",
      "Added comments from 2019-04-07 06:18:56 to 2019-04-08 02:25:26\n",
      "Added comments from 2019-04-06 12:09:26 to 2019-04-07 06:17:00\n",
      "Added comments from 2019-04-05 15:16:09 to 2019-04-06 12:06:26\n",
      "Added comments from 2019-04-04 13:52:19 to 2019-04-05 15:15:58\n",
      "Added comments from 2019-04-03 13:28:44 to 2019-04-04 13:52:13\n",
      "Added comments from 2019-04-02 14:52:18 to 2019-04-03 13:26:58\n",
      "Added comments from 2019-04-01 17:30:33 to 2019-04-02 14:51:37\n",
      "Added comments from 2019-03-31 20:40:29 to 2019-04-01 17:29:41\n",
      "Added comments from 2019-03-30 20:47:21 to 2019-03-31 20:40:10\n",
      "Added comments from 2019-03-29 07:35:50 to 2019-03-30 20:46:20\n",
      "Added comments from 2019-03-28 00:04:35 to 2019-03-29 07:35:38\n",
      "Added comments from 2019-03-26 20:30:06 to 2019-03-28 00:03:08\n",
      "Added comments from 2019-03-25 22:48:05 to 2019-03-26 20:30:05\n",
      "Added comments from 2019-03-25 01:31:37 to 2019-03-25 22:47:12\n",
      "Added comments from 2019-03-24 12:25:40 to 2019-03-25 01:31:33\n",
      "Added comments from 2019-03-23 16:51:04 to 2019-03-24 12:22:10\n",
      "Added comments from 2019-03-22 13:29:37 to 2019-03-23 16:50:58\n",
      "Added comments from 2019-03-21 16:31:51 to 2019-03-22 13:28:32\n",
      "Added comments from 2019-03-20 19:43:12 to 2019-03-21 16:31:32\n",
      "Added comments from 2019-03-19 21:03:47 to 2019-03-20 19:41:51\n",
      "Added comments from 2019-03-18 13:45:54 to 2019-03-19 21:03:43\n",
      "Added comments from 2019-03-17 06:39:25 to 2019-03-18 13:45:48\n",
      "Added comments from 2019-03-16 02:10:53 to 2019-03-17 06:39:22\n",
      "Added comments from 2019-03-15 08:34:46 to 2019-03-16 02:08:49\n",
      "Added comments from 2019-03-14 13:09:27 to 2019-03-15 08:28:22\n",
      "Added comments from 2019-03-13 18:51:37 to 2019-03-14 13:09:00\n",
      "Added comments from 2019-03-12 22:06:00 to 2019-03-13 18:50:56\n",
      "Added comments from 2019-03-12 02:44:50 to 2019-03-12 22:05:31\n",
      "Added comments from 2019-03-11 03:29:41 to 2019-03-12 02:41:04\n",
      "Added comments from 2019-03-10 06:17:02 to 2019-03-11 03:28:50\n",
      "Added comments from 2019-03-09 10:38:37 to 2019-03-10 06:15:59\n",
      "Added comments from 2019-03-08 12:06:54 to 2019-03-09 10:37:25\n",
      "Added comments from 2019-03-07 12:17:20 to 2019-03-08 12:06:35\n",
      "Added comments from 2019-03-06 08:31:04 to 2019-03-07 12:16:59\n",
      "Added comments from 2019-03-05 15:16:55 to 2019-03-06 08:28:19\n",
      "Added comments from 2019-03-04 18:08:07 to 2019-03-05 15:16:13\n",
      "Added comments from 2019-03-04 00:42:30 to 2019-03-04 18:08:01\n",
      "Added comments from 2019-03-02 17:22:45 to 2019-03-04 00:42:05\n",
      "Added comments from 2019-03-01 20:04:16 to 2019-03-02 17:22:32\n",
      "Added comments from 2019-03-01 00:32:46 to 2019-03-01 20:03:15\n",
      "Added comments from 2019-02-27 22:24:16 to 2019-03-01 00:30:33\n",
      "Added comments from 2019-02-27 02:31:45 to 2019-02-27 22:22:27\n",
      "Added comments from 2019-02-26 02:32:13 to 2019-02-27 02:30:07\n",
      "Added comments from 2019-02-25 09:47:58 to 2019-02-26 02:30:15\n",
      "Added comments from 2019-02-24 16:41:03 to 2019-02-25 09:47:32\n",
      "Added comments from 2019-02-23 16:05:22 to 2019-02-24 16:39:49\n",
      "Added comments from 2019-02-22 14:14:14 to 2019-02-23 16:05:17\n",
      "Added comments from 2019-02-21 16:12:30 to 2019-02-22 14:12:46\n",
      "Added comments from 2019-02-20 19:40:59 to 2019-02-21 16:11:43\n",
      "Added comments from 2019-02-19 20:48:41 to 2019-02-20 19:40:47\n",
      "Added comments from 2019-02-18 19:24:31 to 2019-02-19 20:47:58\n",
      "Added comments from 2019-02-17 22:37:46 to 2019-02-18 19:24:01\n",
      "Added comments from 2019-02-17 05:02:42 to 2019-02-17 22:37:42\n",
      "Added comments from 2019-02-16 06:22:46 to 2019-02-17 05:02:05\n",
      "Added comments from 2019-02-15 08:24:52 to 2019-02-16 06:22:11\n",
      "Added comments from 2019-02-14 07:13:10 to 2019-02-15 08:19:09\n",
      "Added comments from 2019-02-13 11:50:58 to 2019-02-14 07:11:28\n",
      "Added comments from 2019-02-12 12:16:32 to 2019-02-13 11:48:04\n",
      "Added comments from 2019-02-11 15:52:07 to 2019-02-12 12:16:03\n"
     ]
    },
    {
     "name": "stdout",
     "output_type": "stream",
     "text": [
      "Added comments from 2019-02-10 17:50:17 to 2019-02-11 15:51:59\n",
      "Added comments from 2019-02-09 18:10:16 to 2019-02-10 17:48:40\n",
      "Added comments from 2019-02-08 13:19:14 to 2019-02-09 18:09:20\n",
      "Added comments from 2019-02-07 14:37:53 to 2019-02-08 13:18:56\n",
      "Added comments from 2019-02-06 12:38:10 to 2019-02-07 14:37:40\n",
      "Added comments from 2019-02-05 09:23:26 to 2019-02-06 12:37:54\n",
      "Added comments from 2019-02-04 07:36:52 to 2019-02-05 09:21:26\n",
      "Added comments from 2019-02-03 08:24:28 to 2019-02-04 07:34:45\n",
      "Added comments from 2019-02-02 13:31:45 to 2019-02-03 08:24:22\n",
      "Added comments from 2019-02-01 18:29:59 to 2019-02-02 13:31:18\n",
      "Added comments from 2019-01-31 22:31:52 to 2019-02-01 18:29:55\n",
      "Added comments from 2019-01-30 19:46:25 to 2019-01-31 22:31:34\n",
      "Added comments from 2019-01-29 22:55:48 to 2019-01-30 19:44:43\n",
      "Added comments from 2019-01-28 23:00:20 to 2019-01-29 22:53:28\n",
      "Added comments from 2019-01-28 02:36:25 to 2019-01-28 23:00:10\n",
      "Added comments from 2019-01-26 18:53:58 to 2019-01-28 02:35:36\n",
      "Added comments from 2019-01-25 21:27:05 to 2019-01-26 18:52:03\n",
      "Added comments from 2019-01-24 19:57:47 to 2019-01-25 21:23:42\n",
      "Added comments from 2019-01-23 22:07:06 to 2019-01-24 19:57:20\n",
      "Added comments from 2019-01-22 14:20:44 to 2019-01-23 22:06:56\n",
      "Added comments from 2019-01-21 15:20:10 to 2019-01-22 14:20:11\n",
      "Added comments from 2019-01-20 17:22:42 to 2019-01-21 15:16:57\n",
      "Added comments from 2019-01-20 02:09:37 to 2019-01-20 17:22:32\n",
      "Added comments from 2019-01-19 16:38:02 to 2019-01-20 02:07:25\n",
      "Added comments from 2019-01-18 19:39:35 to 2019-01-19 16:37:40\n",
      "Added comments from 2019-01-17 23:55:36 to 2019-01-18 19:38:19\n",
      "Added comments from 2019-01-17 03:19:48 to 2019-01-17 23:55:23\n",
      "Added comments from 2019-01-16 12:09:09 to 2019-01-17 03:11:21\n",
      "Added comments from 2019-01-15 11:20:20 to 2019-01-16 12:08:26\n",
      "Added comments from 2019-01-14 13:22:32 to 2019-01-15 11:20:03\n",
      "Added comments from 2019-01-13 14:27:08 to 2019-01-14 13:22:30\n",
      "Added comments from 2019-01-12 11:27:43 to 2019-01-13 14:26:30\n",
      "Added comments from 2019-01-11 11:53:28 to 2019-01-12 11:27:05\n",
      "Added comments from 2019-01-10 13:53:34 to 2019-01-11 11:52:32\n",
      "Added comments from 2019-01-09 14:30:55 to 2019-01-10 13:53:15\n",
      "Added comments from 2019-01-08 09:06:38 to 2019-01-09 14:30:29\n",
      "Added comments from 2019-01-07 00:42:36 to 2019-01-08 09:00:43\n",
      "Added comments from 2019-01-06 01:29:46 to 2019-01-07 00:40:39\n",
      "Added comments from 2019-01-05 01:45:23 to 2019-01-06 01:29:30\n",
      "Added comments from 2019-01-04 08:43:40 to 2019-01-05 01:44:53\n",
      "Added comments from 2019-01-03 17:22:18 to 2019-01-04 08:43:16\n",
      "Added comments from 2019-01-02 21:34:52 to 2019-01-03 17:20:37\n",
      "Added comments from 2019-01-02 02:18:02 to 2019-01-02 21:34:48\n",
      "Added comments from 2018-12-31 20:48:12 to 2019-01-02 02:17:36\n",
      "Added comments from 2018-12-30 21:23:41 to 2018-12-31 20:40:24\n",
      "Added comments from 2018-12-30 11:56:02 to 2018-12-30 21:23:24\n",
      "Added comments from 2018-12-29 15:24:31 to 2018-12-30 11:55:40\n",
      "Added comments from 2018-12-28 20:42:21 to 2018-12-29 15:22:27\n",
      "Added comments from 2018-12-28 01:19:44 to 2018-12-28 20:41:37\n",
      "Added comments from 2018-12-27 10:49:44 to 2018-12-28 01:18:17\n",
      "Added comments from 2018-12-26 16:47:13 to 2018-12-27 10:47:37\n",
      "Added comments from 2018-12-25 13:47:15 to 2018-12-26 16:46:21\n",
      "Added comments from 2018-12-24 12:46:55 to 2018-12-25 13:46:43\n",
      "Added comments from 2018-12-23 12:51:43 to 2018-12-24 12:46:45\n",
      "Added comments from 2018-12-22 02:10:37 to 2018-12-23 12:50:36\n",
      "Added comments from 2018-12-21 09:05:53 to 2018-12-22 02:10:03\n",
      "Added comments from 2018-12-20 08:21:46 to 2018-12-21 09:03:10\n",
      "Added comments from 2018-12-19 07:17:30 to 2018-12-20 08:19:24\n",
      "Added comments from 2018-12-18 01:18:19 to 2018-12-19 07:12:36\n",
      "Added comments from 2018-12-17 02:11:39 to 2018-12-18 01:14:03\n",
      "Added comments from 2018-12-16 00:09:27 to 2018-12-17 02:10:21\n",
      "Added comments from 2018-12-15 02:35:19 to 2018-12-16 00:09:13\n",
      "Added comments from 2018-12-14 08:59:34 to 2018-12-15 02:35:05\n",
      "Added comments from 2018-12-13 12:56:16 to 2018-12-14 08:58:27\n",
      "Added comments from 2018-12-12 17:35:18 to 2018-12-13 12:56:02\n",
      "Added comments from 2018-12-11 23:43:36 to 2018-12-12 17:34:56\n",
      "Added comments from 2018-12-11 01:18:58 to 2018-12-11 23:43:24\n",
      "Added comments from 2018-12-10 09:18:54 to 2018-12-11 01:18:23\n",
      "Added comments from 2018-12-09 11:56:37 to 2018-12-10 09:12:18\n",
      "Added comments from 2018-12-08 13:52:46 to 2018-12-09 11:56:03\n",
      "Added comments from 2018-12-07 15:32:50 to 2018-12-08 13:52:38\n",
      "Added comments from 2018-12-06 17:22:16 to 2018-12-07 15:32:22\n",
      "Added comments from 2018-12-05 15:08:58 to 2018-12-06 17:20:41\n",
      "Added comments from 2018-12-04 12:20:55 to 2018-12-05 15:08:06\n",
      "Added comments from 2018-12-03 15:16:27 to 2018-12-04 12:19:55\n",
      "Added comments from 2018-12-02 18:12:03 to 2018-12-03 15:16:03\n",
      "Added comments from 2018-12-01 17:46:08 to 2018-12-02 18:10:51\n",
      "Added comments from 2018-11-30 16:14:04 to 2018-12-01 17:46:06\n",
      "Added comments from 2018-11-29 18:56:32 to 2018-11-30 16:13:58\n",
      "Added comments from 2018-11-28 23:53:33 to 2018-11-29 18:55:50\n",
      "Added comments from 2018-11-27 16:02:33 to 2018-11-28 23:52:20\n",
      "Added comments from 2018-11-26 19:43:37 to 2018-11-27 16:00:04\n",
      "Added comments from 2018-11-25 21:46:27 to 2018-11-26 19:43:23\n",
      "Added comments from 2018-11-24 20:41:04 to 2018-11-25 21:45:16\n",
      "Added comments from 2018-11-23 12:01:00 to 2018-11-24 20:40:39\n",
      "Added comments from 2018-11-21 22:56:45 to 2018-11-23 11:58:17\n",
      "Added comments from 2018-11-20 11:43:32 to 2018-11-21 22:54:56\n",
      "Added comments from 2018-11-19 11:26:43 to 2018-11-20 11:41:41\n",
      "Added comments from 2018-11-18 08:29:08 to 2018-11-19 11:25:17\n",
      "Added comments from 2018-11-16 15:08:30 to 2018-11-18 08:24:33\n",
      "Added comments from 2018-11-15 11:39:09 to 2018-11-16 15:07:47\n",
      "Added comments from 2018-11-14 00:52:50 to 2018-11-15 11:36:33\n",
      "Added comments from 2018-11-12 20:21:37 to 2018-11-14 00:50:57\n",
      "Added comments from 2018-11-11 21:06:35 to 2018-11-12 20:19:55\n",
      "Added comments from 2018-11-10 22:02:26 to 2018-11-11 21:04:03\n",
      "Added comments from 2018-11-09 17:29:26 to 2018-11-10 21:57:59\n",
      "Added comments from 2018-11-08 18:53:55 to 2018-11-09 17:27:13\n",
      "Added comments from 2018-11-07 19:46:39 to 2018-11-08 18:53:27\n",
      "Added comments from 2018-11-06 20:58:32 to 2018-11-07 19:46:24\n",
      "Added comments from 2018-11-05 23:14:04 to 2018-11-06 20:57:36\n",
      "Added comments from 2018-11-04 19:31:40 to 2018-11-05 23:06:42\n",
      "Added comments from 2018-11-03 21:08:42 to 2018-11-04 19:31:10\n",
      "Added comments from 2018-11-02 20:38:59 to 2018-11-03 21:08:18\n",
      "Added comments from 2018-11-01 18:40:42 to 2018-11-02 20:38:41\n",
      "Added comments from 2018-10-31 15:22:53 to 2018-11-01 18:40:09\n",
      "Added comments from 2018-10-30 11:28:38 to 2018-10-31 15:21:44\n",
      "Added comments from 2018-10-29 11:44:05 to 2018-10-30 11:24:39\n",
      "Added comments from 2018-10-28 10:09:03 to 2018-10-29 11:43:52\n",
      "Added comments from 2018-10-26 22:42:22 to 2018-10-28 10:08:42\n",
      "Added comments from 2018-10-25 15:07:52 to 2018-10-26 22:34:28\n",
      "Added comments from 2018-10-24 13:01:42 to 2018-10-25 15:07:12\n",
      "Added comments from 2018-10-23 01:48:33 to 2018-10-24 13:00:58\n",
      "Added comments from 2018-10-21 19:38:40 to 2018-10-23 01:48:27\n",
      "Added comments from 2018-10-20 19:03:07 to 2018-10-21 19:34:31\n",
      "Added comments from 2018-10-19 18:35:34 to 2018-10-20 19:02:40\n",
      "Added comments from 2018-10-18 12:22:12 to 2018-10-19 18:34:00\n",
      "Added comments from 2018-10-17 08:35:32 to 2018-10-18 12:22:02\n",
      "Added comments from 2018-10-16 11:58:02 to 2018-10-17 08:33:52\n",
      "Added comments from 2018-10-14 22:40:11 to 2018-10-16 11:57:50\n",
      "Added comments from 2018-10-13 13:28:37 to 2018-10-14 22:39:26\n",
      "Added comments from 2018-10-12 12:48:42 to 2018-10-13 13:25:09\n",
      "Added comments from 2018-10-11 12:48:26 to 2018-10-12 12:47:46\n",
      "Added comments from 2018-10-09 23:44:11 to 2018-10-11 12:47:51\n",
      "Added comments from 2018-10-08 20:22:28 to 2018-10-09 23:40:57\n",
      "Added comments from 2018-10-07 14:16:34 to 2018-10-08 20:19:39\n",
      "Added comments from 2018-10-06 01:11:03 to 2018-10-07 14:14:16\n",
      "Added comments from 2018-10-04 14:53:16 to 2018-10-06 01:08:23\n",
      "Added comments from 2018-10-03 09:04:33 to 2018-10-04 14:49:19\n",
      "Added comments from 2018-10-02 10:22:16 to 2018-10-03 09:03:18\n",
      "Added comments from 2018-10-01 12:42:12 to 2018-10-02 10:21:37\n",
      "Added comments from 2018-09-30 12:13:46 to 2018-10-01 12:39:56\n"
     ]
    },
    {
     "name": "stdout",
     "output_type": "stream",
     "text": [
      "Added comments from 2018-09-29 02:07:34 to 2018-09-30 12:13:34\n",
      "Added comments from 2018-09-27 18:15:57 to 2018-09-29 02:03:31\n",
      "Added comments from 2018-09-26 14:59:03 to 2018-09-27 18:15:18\n",
      "Added comments from 2018-09-25 08:45:09 to 2018-09-26 14:57:06\n",
      "Added comments from 2018-09-24 02:13:33 to 2018-09-25 08:44:36\n",
      "Added comments from 2018-09-22 16:44:56 to 2018-09-24 02:13:21\n",
      "Added comments from 2018-09-21 10:36:20 to 2018-09-22 16:43:41\n",
      "Added comments from 2018-09-19 19:08:43 to 2018-09-21 10:34:33\n",
      "Added comments from 2018-09-18 17:05:51 to 2018-09-19 19:06:36\n",
      "Added comments from 2018-09-17 20:56:52 to 2018-09-18 17:05:39\n",
      "Added comments from 2018-09-16 21:53:15 to 2018-09-17 20:51:35\n",
      "Added comments from 2018-09-15 23:19:38 to 2018-09-16 21:53:01\n",
      "Added comments from 2018-09-14 22:38:20 to 2018-09-15 23:19:31\n",
      "Added comments from 2018-09-14 00:22:41 to 2018-09-14 22:38:05\n",
      "Added comments from 2018-09-12 17:13:14 to 2018-09-14 00:22:35\n",
      "Added comments from 2018-09-11 12:41:21 to 2018-09-12 17:12:33\n",
      "Added comments from 2018-09-10 01:34:52 to 2018-09-11 12:41:14\n",
      "Added comments from 2018-09-08 20:05:25 to 2018-09-10 01:34:34\n",
      "Added comments from 2018-09-07 15:28:07 to 2018-09-08 20:04:14\n",
      "Added comments from 2018-09-06 01:07:15 to 2018-09-07 15:27:59\n",
      "Added comments from 2018-09-04 19:45:04 to 2018-09-06 01:06:34\n",
      "Added comments from 2018-09-03 06:13:11 to 2018-09-04 19:44:58\n",
      "Added comments from 2018-09-01 20:58:05 to 2018-09-03 05:58:36\n",
      "Added comments from 2018-08-31 03:19:42 to 2018-09-01 20:54:37\n",
      "Added comments from 2018-08-29 20:50:42 to 2018-08-31 03:18:26\n",
      "Added comments from 2018-08-28 21:34:35 to 2018-08-29 20:50:34\n",
      "Added comments from 2018-08-28 00:31:33 to 2018-08-28 21:32:14\n",
      "Added comments from 2018-08-26 21:25:46 to 2018-08-28 00:30:19\n",
      "Added comments from 2018-08-25 17:49:38 to 2018-08-26 21:25:40\n",
      "Added comments from 2018-08-24 18:14:55 to 2018-08-25 17:44:38\n",
      "Added comments from 2018-08-23 15:34:41 to 2018-08-24 18:14:08\n",
      "Added comments from 2018-08-22 07:40:26 to 2018-08-23 15:33:49\n",
      "Added comments from 2018-08-21 05:12:04 to 2018-08-22 07:36:35\n",
      "Added comments from 2018-08-19 22:35:46 to 2018-08-21 05:11:13\n",
      "Added comments from 2018-08-18 18:26:09 to 2018-08-19 22:34:24\n",
      "Added comments from 2018-08-17 15:15:03 to 2018-08-18 18:23:30\n",
      "Added comments from 2018-08-16 16:27:59 to 2018-08-17 15:14:36\n",
      "Added comments from 2018-08-15 14:55:52 to 2018-08-16 16:27:31\n",
      "Added comments from 2018-08-14 11:34:19 to 2018-08-15 14:55:06\n",
      "Added comments from 2018-08-13 07:06:04 to 2018-08-14 11:25:36\n",
      "Added comments from 2018-08-12 04:20:38 to 2018-08-13 07:05:27\n",
      "Added comments from 2018-08-11 00:06:17 to 2018-08-12 04:20:19\n",
      "Added comments from 2018-08-09 20:31:04 to 2018-08-11 00:02:12\n",
      "Added comments from 2018-08-08 20:39:07 to 2018-08-09 20:28:06\n",
      "Added comments from 2018-08-08 06:20:11 to 2018-08-08 20:37:18\n",
      "Added comments from 2018-08-07 11:46:05 to 2018-08-08 06:14:26\n",
      "Added comments from 2018-08-06 18:44:35 to 2018-08-07 11:45:38\n",
      "Added comments from 2018-08-05 18:50:37 to 2018-08-06 18:43:43\n",
      "Added comments from 2018-08-04 20:28:52 to 2018-08-05 18:50:21\n",
      "Added comments from 2018-08-04 01:54:33 to 2018-08-04 20:27:46\n",
      "Added comments from 2018-08-03 11:12:38 to 2018-08-04 01:54:10\n",
      "Added comments from 2018-08-02 09:30:16 to 2018-08-03 11:12:24\n",
      "Added comments from 2018-08-01 11:52:22 to 2018-08-02 09:29:04\n",
      "Added comments from 2018-07-31 08:19:41 to 2018-08-01 11:52:11\n",
      "Added comments from 2018-07-30 06:49:30 to 2018-07-31 08:16:12\n",
      "Added comments from 2018-07-29 07:14:29 to 2018-07-30 06:32:38\n",
      "Added comments from 2018-07-28 03:38:22 to 2018-07-29 07:14:13\n",
      "Added comments from 2018-07-27 03:08:58 to 2018-07-28 03:36:30\n",
      "Added comments from 2018-07-26 00:57:42 to 2018-07-27 03:04:29\n",
      "Added comments from 2018-07-25 01:36:25 to 2018-07-26 00:56:29\n",
      "Added comments from 2018-07-24 00:29:34 to 2018-07-25 01:36:13\n",
      "Added comments from 2018-07-22 22:36:52 to 2018-07-24 00:28:58\n",
      "Added comments from 2018-07-21 15:21:13 to 2018-07-22 22:35:57\n",
      "Added comments from 2018-07-20 01:08:01 to 2018-07-21 15:19:31\n",
      "Added comments from 2018-07-19 01:34:23 to 2018-07-20 01:05:16\n",
      "Added comments from 2018-07-17 21:53:57 to 2018-07-19 01:33:53\n",
      "Added comments from 2018-07-16 20:05:28 to 2018-07-17 21:52:41\n",
      "Added comments from 2018-07-15 21:33:17 to 2018-07-16 20:03:02\n",
      "Added comments from 2018-07-14 16:58:02 to 2018-07-15 21:33:10\n",
      "Added comments from 2018-07-13 14:17:38 to 2018-07-14 16:56:00\n",
      "Added comments from 2018-07-12 15:22:16 to 2018-07-13 14:15:53\n",
      "Added comments from 2018-07-11 14:22:37 to 2018-07-12 15:19:23\n",
      "Added comments from 2018-07-10 16:17:21 to 2018-07-11 14:21:26\n",
      "Added comments from 2018-07-09 13:32:08 to 2018-07-10 16:17:04\n",
      "Added comments from 2018-07-08 16:02:15 to 2018-07-09 13:24:42\n",
      "Added comments from 2018-07-07 11:02:39 to 2018-07-08 16:02:12\n",
      "Added comments from 2018-07-06 03:59:23 to 2018-07-07 11:00:44\n",
      "Added comments from 2018-07-04 23:17:34 to 2018-07-06 03:59:19\n",
      "Added comments from 2018-07-03 15:41:36 to 2018-07-04 23:11:44\n",
      "Added comments from 2018-07-02 16:56:10 to 2018-07-03 15:41:30\n",
      "Added comments from 2018-07-01 07:26:07 to 2018-07-02 16:56:09\n",
      "Added comments from 2018-06-29 02:19:02 to 2018-07-01 07:24:46\n",
      "Added comments from 2018-06-28 03:35:15 to 2018-06-29 02:19:01\n",
      "Added comments from 2018-06-27 10:19:45 to 2018-06-28 03:32:33\n",
      "Added comments from 2018-06-26 15:59:18 to 2018-06-27 10:19:02\n",
      "Added comments from 2018-06-25 14:39:50 to 2018-06-26 15:57:34\n",
      "Added comments from 2018-06-24 15:18:09 to 2018-06-25 14:37:44\n",
      "Added comments from 2018-06-23 16:37:47 to 2018-06-24 15:15:57\n",
      "Added comments from 2018-06-22 15:59:44 to 2018-06-23 16:37:23\n",
      "Added comments from 2018-06-21 14:38:09 to 2018-06-22 15:59:17\n",
      "Added comments from 2018-06-20 16:03:03 to 2018-06-21 14:37:00\n",
      "Added comments from 2018-06-19 17:40:12 to 2018-06-20 16:01:17\n",
      "Added comments from 2018-06-18 17:36:34 to 2018-06-19 17:39:52\n",
      "Added comments from 2018-06-17 21:18:48 to 2018-06-18 17:35:25\n",
      "Added comments from 2018-06-16 20:02:54 to 2018-06-17 21:16:37\n",
      "Added comments from 2018-06-15 22:01:47 to 2018-06-16 20:02:50\n",
      "Added comments from 2018-06-14 20:50:06 to 2018-06-15 22:00:30\n",
      "Added comments from 2018-06-12 10:21:00 to 2018-06-14 20:42:57\n",
      "Added comments from 2018-06-10 22:52:06 to 2018-06-12 10:20:36\n",
      "Added comments from 2018-06-09 18:16:15 to 2018-06-10 22:51:30\n",
      "Added comments from 2018-06-08 19:24:56 to 2018-06-09 18:14:53\n",
      "Added comments from 2018-06-07 17:52:38 to 2018-06-08 19:23:51\n",
      "Added comments from 2018-06-05 20:54:13 to 2018-06-07 17:52:02\n",
      "Added comments from 2018-06-04 15:40:43 to 2018-06-05 20:53:03\n",
      "Added comments from 2018-06-03 16:24:14 to 2018-06-04 15:40:40\n",
      "Added comments from 2018-06-02 13:41:42 to 2018-06-03 16:21:49\n",
      "Added comments from 2018-06-01 02:48:11 to 2018-06-02 13:40:08\n",
      "Added comments from 2018-05-31 08:38:05 to 2018-06-01 02:43:52\n",
      "Added comments from 2018-05-30 09:41:23 to 2018-05-31 08:37:51\n",
      "Added comments from 2018-05-29 14:24:42 to 2018-05-30 09:40:32\n",
      "Added comments from 2018-05-28 16:14:29 to 2018-05-29 14:24:37\n",
      "Added comments from 2018-05-27 16:11:18 to 2018-05-28 16:13:53\n",
      "Added comments from 2018-05-25 21:30:44 to 2018-05-27 16:10:08\n",
      "Added comments from 2018-05-24 14:33:32 to 2018-05-25 21:30:36\n",
      "Added comments from 2018-05-23 12:38:33 to 2018-05-24 14:33:30\n",
      "Added comments from 2018-05-22 09:11:12 to 2018-05-23 12:38:04\n",
      "Added comments from 2018-05-21 11:21:08 to 2018-05-22 09:09:55\n",
      "Added comments from 2018-05-20 09:23:45 to 2018-05-21 11:20:23\n",
      "Added comments from 2018-05-19 03:48:28 to 2018-05-20 09:23:11\n",
      "Added comments from 2018-05-17 22:41:07 to 2018-05-19 03:43:17\n",
      "Added comments from 2018-05-16 16:46:01 to 2018-05-17 22:36:00\n",
      "Added comments from 2018-05-15 01:05:54 to 2018-05-16 16:44:38\n",
      "Added comments from 2018-05-13 18:09:53 to 2018-05-15 01:05:36\n",
      "Added comments from 2018-05-12 10:48:35 to 2018-05-13 18:09:10\n",
      "Added comments from 2018-05-11 03:42:29 to 2018-05-12 10:48:04\n",
      "Added comments from 2018-05-09 19:43:38 to 2018-05-11 03:42:21\n",
      "Added comments from 2018-05-08 13:39:24 to 2018-05-09 19:43:03\n",
      "Added comments from 2018-05-07 12:42:09 to 2018-05-08 13:38:19\n",
      "Added comments from 2018-05-06 08:45:23 to 2018-05-07 12:42:06\n",
      "Added comments from 2018-05-04 12:13:34 to 2018-05-06 08:44:36\n",
      "Added comments from 2018-05-03 04:38:50 to 2018-05-04 12:12:42\n"
     ]
    },
    {
     "name": "stdout",
     "output_type": "stream",
     "text": [
      "Added comments from 2018-05-02 01:14:17 to 2018-05-03 04:37:58\n",
      "Added comments from 2018-04-30 21:32:41 to 2018-05-02 01:11:34\n",
      "Added comments from 2018-04-29 22:11:50 to 2018-04-30 21:31:59\n",
      "Added comments from 2018-04-29 01:22:36 to 2018-04-29 22:11:46\n",
      "Added comments from 2018-04-27 23:23:08 to 2018-04-29 01:20:50\n",
      "Added comments from 2018-04-26 12:41:41 to 2018-04-27 23:23:00\n",
      "Added comments from 2018-04-25 12:02:58 to 2018-04-26 12:38:54\n",
      "Added comments from 2018-04-24 16:18:23 to 2018-04-25 12:02:43\n",
      "Added comments from 2018-04-23 11:15:50 to 2018-04-24 16:15:09\n",
      "Added comments from 2018-04-22 02:17:25 to 2018-04-23 11:15:45\n",
      "Added comments from 2018-04-20 16:44:57 to 2018-04-22 02:16:35\n",
      "Added comments from 2018-04-19 13:06:40 to 2018-04-20 16:40:48\n",
      "Added comments from 2018-04-18 06:50:01 to 2018-04-19 13:01:53\n",
      "Added comments from 2018-04-16 14:40:33 to 2018-04-18 06:48:45\n",
      "Added comments from 2018-04-15 07:04:19 to 2018-04-16 14:37:09\n",
      "Added comments from 2018-04-13 15:45:08 to 2018-04-15 07:03:19\n",
      "Added comments from 2018-04-12 09:09:56 to 2018-04-13 15:45:05\n",
      "Added comments from 2018-04-11 03:25:32 to 2018-04-12 09:04:24\n",
      "Added comments from 2018-04-10 00:10:37 to 2018-04-11 03:25:19\n",
      "Added comments from 2018-04-08 19:49:19 to 2018-04-10 00:10:32\n",
      "Added comments from 2018-04-07 00:16:08 to 2018-04-08 19:48:44\n",
      "Added comments from 2018-04-05 21:58:08 to 2018-04-07 00:12:02\n",
      "Added comments from 2018-04-05 00:34:49 to 2018-04-05 21:57:29\n",
      "Added comments from 2018-04-03 20:59:14 to 2018-04-05 00:32:04\n",
      "Added comments from 2018-04-02 19:08:03 to 2018-04-03 20:58:37\n",
      "Added comments from 2018-04-01 15:49:05 to 2018-04-02 19:05:23\n",
      "Added comments from 2018-03-31 09:32:00 to 2018-04-01 15:48:04\n",
      "Added comments from 2018-03-29 18:02:49 to 2018-03-31 09:26:11\n",
      "Added comments from 2018-03-28 14:45:49 to 2018-03-29 18:01:59\n",
      "Added comments from 2018-03-27 09:59:19 to 2018-03-28 14:36:50\n",
      "Added comments from 2018-03-26 09:09:42 to 2018-03-27 09:53:26\n",
      "Added comments from 2018-03-23 19:48:15 to 2018-03-26 09:08:44\n",
      "Added comments from 2018-03-22 08:55:16 to 2018-03-23 19:47:43\n",
      "Added comments from 2018-03-21 00:10:28 to 2018-03-22 08:54:51\n",
      "Added comments from 2018-03-20 01:33:03 to 2018-03-21 00:10:24\n",
      "Added comments from 2018-03-19 01:46:58 to 2018-03-20 01:31:25\n",
      "Added comments from 2018-03-17 21:47:29 to 2018-03-19 01:46:13\n",
      "Added comments from 2018-03-16 09:26:04 to 2018-03-17 21:40:22\n",
      "Added comments from 2018-03-14 15:51:25 to 2018-03-16 09:24:31\n",
      "Added comments from 2018-03-13 16:48:56 to 2018-03-14 15:51:23\n",
      "Added comments from 2018-03-12 11:03:13 to 2018-03-13 16:47:51\n",
      "Added comments from 2018-03-11 06:33:32 to 2018-03-12 11:00:14\n",
      "Added comments from 2018-03-10 00:18:48 to 2018-03-11 06:33:09\n",
      "Added comments from 2018-03-09 01:49:25 to 2018-03-10 00:18:14\n",
      "Added comments from 2018-03-08 02:16:08 to 2018-03-09 01:49:01\n",
      "Added comments from 2018-03-06 19:52:34 to 2018-03-08 02:12:35\n",
      "Added comments from 2018-03-05 10:11:22 to 2018-03-06 19:48:44\n",
      "Added comments from 2018-03-04 09:20:46 to 2018-03-05 10:08:55\n",
      "Added comments from 2018-03-03 02:06:21 to 2018-03-04 09:17:41\n",
      "Added comments from 2018-03-01 22:16:19 to 2018-03-03 02:03:32\n",
      "Added comments from 2018-02-28 23:01:39 to 2018-03-01 22:13:54\n",
      "Added comments from 2018-02-27 21:33:42 to 2018-02-28 23:00:30\n",
      "Added comments from 2018-02-26 15:27:11 to 2018-02-27 21:32:05\n",
      "Added comments from 2018-02-25 03:25:28 to 2018-02-26 15:25:53\n",
      "Added comments from 2018-02-23 23:24:04 to 2018-02-25 03:24:59\n",
      "Added comments from 2018-02-22 16:03:43 to 2018-02-23 23:23:51\n",
      "Added comments from 2018-02-21 09:37:35 to 2018-02-22 16:03:28\n",
      "Added comments from 2018-02-19 19:42:43 to 2018-02-21 09:35:58\n",
      "Added comments from 2018-02-18 15:00:03 to 2018-02-19 19:40:45\n",
      "Added comments from 2018-02-16 22:16:46 to 2018-02-18 14:59:49\n",
      "Added comments from 2018-02-15 14:37:25 to 2018-02-16 22:12:50\n",
      "Added comments from 2018-02-14 12:09:07 to 2018-02-15 14:36:42\n",
      "Added comments from 2018-02-12 20:44:22 to 2018-02-14 12:08:28\n",
      "Added comments from 2018-02-11 19:32:01 to 2018-02-12 20:42:51\n",
      "Added comments from 2018-02-10 16:31:32 to 2018-02-11 19:32:00\n",
      "Added comments from 2018-02-09 03:07:53 to 2018-02-10 16:30:27\n",
      "Added comments from 2018-02-08 03:17:00 to 2018-02-09 03:03:53\n",
      "Added comments from 2018-02-06 22:47:04 to 2018-02-08 03:15:11\n",
      "Added comments from 2018-02-05 16:28:35 to 2018-02-06 22:45:08\n",
      "Added comments from 2018-02-04 15:33:21 to 2018-02-05 16:28:34\n",
      "Added comments from 2018-02-03 01:48:48 to 2018-02-04 15:31:39\n",
      "Added comments from 2018-02-01 10:04:04 to 2018-02-03 01:46:05\n",
      "Added comments from 2018-01-30 17:18:58 to 2018-02-01 09:52:23\n",
      "Added comments from 2018-01-29 05:45:46 to 2018-01-30 17:18:42\n",
      "Added comments from 2018-01-27 19:13:16 to 2018-01-29 05:45:01\n",
      "Added comments from 2018-01-26 22:04:16 to 2018-01-27 19:12:44\n",
      "Added comments from 2018-01-25 10:54:33 to 2018-01-26 22:02:35\n",
      "Added comments from 2018-01-23 23:03:22 to 2018-01-25 10:52:14\n",
      "Added comments from 2018-01-22 21:09:52 to 2018-01-23 23:01:47\n",
      "Added comments from 2018-01-21 17:13:56 to 2018-01-22 21:09:31\n",
      "Added comments from 2018-01-19 23:54:38 to 2018-01-21 17:10:53\n",
      "Added comments from 2018-01-18 17:53:13 to 2018-01-19 23:54:35\n",
      "Added comments from 2018-01-17 10:52:54 to 2018-01-18 17:51:38\n",
      "Added comments from 2018-01-16 07:54:32 to 2018-01-17 10:52:35\n",
      "Added comments from 2018-01-15 00:28:24 to 2018-01-16 07:51:45\n",
      "Added comments from 2018-01-13 16:05:59 to 2018-01-15 00:28:01\n",
      "Added comments from 2018-01-11 22:12:32 to 2018-01-13 16:05:01\n",
      "Added comments from 2018-01-10 14:16:31 to 2018-01-11 22:10:00\n",
      "Added comments from 2018-01-08 20:06:07 to 2018-01-10 14:16:29\n",
      "Added comments from 2018-01-07 09:43:31 to 2018-01-08 20:03:41\n",
      "Added comments from 2018-01-06 02:09:19 to 2018-01-07 09:42:58\n",
      "Added comments from 2018-01-05 07:15:03 to 2018-01-06 02:09:03\n",
      "Added comments from 2018-01-04 11:51:20 to 2018-01-05 07:14:47\n",
      "Added comments from 2018-01-03 01:07:18 to 2018-01-04 11:50:07\n",
      "Added comments from 2018-01-02 02:30:16 to 2018-01-03 01:03:27\n",
      "Added comments from 2017-12-31 00:49:31 to 2018-01-02 02:26:41\n"
     ]
    }
   ],
   "source": [
    "timestamp = calendar.timegm(datetime.datetime.now().utctimetuple())\n",
    "first = calendar.timegm(datetime.datetime(2018, 1, 1).utctimetuple())\n",
    "comments = []\n",
    "while timestamp > first:\n",
    "    url = (\"https://api.pushshift.io/reddit/search/comment/\"\n",
    "           \"?subreddit=rateme&sort=desc&sort_type=created_utc&\"\n",
    "           \"before={}&size=1000\").format(timestamp)\n",
    "    r = requests.get(url).json()\n",
    "    comments += r['data']\n",
    "    print(\"Added comments from {} to {}\".format(datetime.datetime.fromtimestamp(r['data'][-1]['created_utc']),\n",
    "                                                datetime.datetime.fromtimestamp(r['data'][0]['created_utc'])))\n",
    "    timestamp = r['data'][-1]['created_utc']"
   ]
  },
  {
   "cell_type": "code",
   "execution_count": 51,
   "metadata": {},
   "outputs": [
    {
     "data": {
      "text/plain": [
       "620000"
      ]
     },
     "execution_count": 51,
     "metadata": {},
     "output_type": "execute_result"
    }
   ],
   "source": [
    "len(comments)"
   ]
  },
  {
   "cell_type": "code",
   "execution_count": 53,
   "metadata": {},
   "outputs": [
    {
     "data": {
      "text/plain": [
       "79000"
      ]
     },
     "execution_count": 53,
     "metadata": {},
     "output_type": "execute_result"
    }
   ],
   "source": [
    "len(posts)"
   ]
  },
  {
   "cell_type": "code",
   "execution_count": 49,
   "metadata": {},
   "outputs": [],
   "source": [
    "import pickle as pkl\n",
    "\n",
    "pkl.dump(posts, open(\"./posts_since_2018.pkl\", \"wb\"))"
   ]
  },
  {
   "cell_type": "code",
   "execution_count": 52,
   "metadata": {},
   "outputs": [],
   "source": [
    "pkl.dump(comments, open(\"./comments_since_2018.pkl\", \"wb\"))"
   ]
  },
  {
   "cell_type": "code",
   "execution_count": 33,
   "metadata": {},
   "outputs": [],
   "source": [
    "url = (\"https://api.pushshift.io/reddit/search/submission/\"\n",
    " \"?subreddit=rateme&sort=desc&sort_type=created_utc&\"\n",
    " \"after=0000000000&size=1000\")"
   ]
  },
  {
   "cell_type": "code",
   "execution_count": 54,
   "metadata": {},
   "outputs": [
    {
     "data": {
      "text/plain": [
       "{'all_awardings': [],\n",
       " 'allow_live_comments': False,\n",
       " 'author': 'Thisiskindacoolig',\n",
       " 'author_flair_css_class': None,\n",
       " 'author_flair_richtext': [],\n",
       " 'author_flair_text': None,\n",
       " 'author_flair_type': 'text',\n",
       " 'author_fullname': 't2_4safutxz',\n",
       " 'author_patreon_flair': False,\n",
       " 'awarders': [],\n",
       " 'can_mod_post': False,\n",
       " 'contest_mode': False,\n",
       " 'created_utc': 1570927018,\n",
       " 'domain': 'i.redd.it',\n",
       " 'full_link': 'https://www.reddit.com/r/Rateme/comments/dh3ha2/hows_my_smile/',\n",
       " 'gildings': {},\n",
       " 'id': 'dh3ha2',\n",
       " 'is_crosspostable': False,\n",
       " 'is_meta': False,\n",
       " 'is_original_content': False,\n",
       " 'is_reddit_media_domain': True,\n",
       " 'is_robot_indexable': False,\n",
       " 'is_self': False,\n",
       " 'is_video': False,\n",
       " 'link_flair_background_color': '',\n",
       " 'link_flair_richtext': [],\n",
       " 'link_flair_text_color': 'dark',\n",
       " 'link_flair_type': 'text',\n",
       " 'locked': False,\n",
       " 'media_only': False,\n",
       " 'no_follow': True,\n",
       " 'num_comments': 2,\n",
       " 'num_crossposts': 0,\n",
       " 'over_18': False,\n",
       " 'parent_whitelist_status': 'house_only',\n",
       " 'permalink': '/r/Rateme/comments/dh3ha2/hows_my_smile/',\n",
       " 'pinned': False,\n",
       " 'post_hint': 'image',\n",
       " 'preview': {'enabled': True,\n",
       "  'images': [{'id': 'AnbQez6FVVMbnQ13KYFW4GuRffN6WCHVLIsy5wRm_4Y',\n",
       "    'resolutions': [{'height': 192,\n",
       "      'url': 'https://preview.redd.it/yqhjbtm1f7s31.jpg?width=108&amp;crop=smart&amp;auto=webp&amp;s=1aef919336813da1194a41ddbcee876bbef94577',\n",
       "      'width': 108},\n",
       "     {'height': 384,\n",
       "      'url': 'https://preview.redd.it/yqhjbtm1f7s31.jpg?width=216&amp;crop=smart&amp;auto=webp&amp;s=8bf984ec603317a4c5a80f1786130dc17c2fafca',\n",
       "      'width': 216},\n",
       "     {'height': 568,\n",
       "      'url': 'https://preview.redd.it/yqhjbtm1f7s31.jpg?width=320&amp;crop=smart&amp;auto=webp&amp;s=3f230adfb6a1790be91f42617253d1b6fb28cf47',\n",
       "      'width': 320},\n",
       "     {'height': 1137,\n",
       "      'url': 'https://preview.redd.it/yqhjbtm1f7s31.jpg?width=640&amp;crop=smart&amp;auto=webp&amp;s=1745e2688cb0774a74214a2788e2fc527b750532',\n",
       "      'width': 640}],\n",
       "    'source': {'height': 1280,\n",
       "     'url': 'https://preview.redd.it/yqhjbtm1f7s31.jpg?auto=webp&amp;s=1eb98412aef71672533c67bf9ebc29db116eb481',\n",
       "     'width': 720},\n",
       "    'variants': {}}]},\n",
       " 'pwls': 1,\n",
       " 'retrieved_on': 1570927019,\n",
       " 'score': 1,\n",
       " 'selftext': '',\n",
       " 'send_replies': True,\n",
       " 'spoiler': False,\n",
       " 'steward_reports': [],\n",
       " 'stickied': False,\n",
       " 'subreddit': 'Rateme',\n",
       " 'subreddit_id': 't5_2re84',\n",
       " 'subreddit_subscribers': 146223,\n",
       " 'subreddit_type': 'public',\n",
       " 'thumbnail': 'https://b.thumbs.redditmedia.com/CC3poSgsw8r6NTeRcOevViWDm6BndFmetroAjm24XQg.jpg',\n",
       " 'thumbnail_height': 140,\n",
       " 'thumbnail_width': 140,\n",
       " 'title': 'Hows my smile?',\n",
       " 'total_awards_received': 0,\n",
       " 'url': 'https://i.redd.it/yqhjbtm1f7s31.jpg',\n",
       " 'whitelist_status': 'house_only',\n",
       " 'wls': 1}"
      ]
     },
     "execution_count": 54,
     "metadata": {},
     "output_type": "execute_result"
    }
   ],
   "source": [
    "posts[0]"
   ]
  },
  {
   "cell_type": "code",
   "execution_count": 2,
   "metadata": {},
   "outputs": [],
   "source": [
    "import pickle as pkl\n",
    "\n",
    "posts = pkl.load(open(\"../data/posts_since_2018.pkl\", \"rb\"))\n",
    "comments = pkl.load(open(\"../data/comments_since_2018.pkl\", \"rb\"))"
   ]
  },
  {
   "cell_type": "code",
   "execution_count": 3,
   "metadata": {},
   "outputs": [
    {
     "data": {
      "text/plain": [
       "{'all_awardings': [],\n",
       " 'allow_live_comments': False,\n",
       " 'author': 'Thisiskindacoolig',\n",
       " 'author_flair_css_class': None,\n",
       " 'author_flair_richtext': [],\n",
       " 'author_flair_text': None,\n",
       " 'author_flair_type': 'text',\n",
       " 'author_fullname': 't2_4safutxz',\n",
       " 'author_patreon_flair': False,\n",
       " 'awarders': [],\n",
       " 'can_mod_post': False,\n",
       " 'contest_mode': False,\n",
       " 'created_utc': 1570927018,\n",
       " 'domain': 'i.redd.it',\n",
       " 'full_link': 'https://www.reddit.com/r/Rateme/comments/dh3ha2/hows_my_smile/',\n",
       " 'gildings': {},\n",
       " 'id': 'dh3ha2',\n",
       " 'is_crosspostable': False,\n",
       " 'is_meta': False,\n",
       " 'is_original_content': False,\n",
       " 'is_reddit_media_domain': True,\n",
       " 'is_robot_indexable': False,\n",
       " 'is_self': False,\n",
       " 'is_video': False,\n",
       " 'link_flair_background_color': '',\n",
       " 'link_flair_richtext': [],\n",
       " 'link_flair_text_color': 'dark',\n",
       " 'link_flair_type': 'text',\n",
       " 'locked': False,\n",
       " 'media_only': False,\n",
       " 'no_follow': True,\n",
       " 'num_comments': 2,\n",
       " 'num_crossposts': 0,\n",
       " 'over_18': False,\n",
       " 'parent_whitelist_status': 'house_only',\n",
       " 'permalink': '/r/Rateme/comments/dh3ha2/hows_my_smile/',\n",
       " 'pinned': False,\n",
       " 'post_hint': 'image',\n",
       " 'preview': {'enabled': True,\n",
       "  'images': [{'id': 'AnbQez6FVVMbnQ13KYFW4GuRffN6WCHVLIsy5wRm_4Y',\n",
       "    'resolutions': [{'height': 192,\n",
       "      'url': 'https://preview.redd.it/yqhjbtm1f7s31.jpg?width=108&amp;crop=smart&amp;auto=webp&amp;s=1aef919336813da1194a41ddbcee876bbef94577',\n",
       "      'width': 108},\n",
       "     {'height': 384,\n",
       "      'url': 'https://preview.redd.it/yqhjbtm1f7s31.jpg?width=216&amp;crop=smart&amp;auto=webp&amp;s=8bf984ec603317a4c5a80f1786130dc17c2fafca',\n",
       "      'width': 216},\n",
       "     {'height': 568,\n",
       "      'url': 'https://preview.redd.it/yqhjbtm1f7s31.jpg?width=320&amp;crop=smart&amp;auto=webp&amp;s=3f230adfb6a1790be91f42617253d1b6fb28cf47',\n",
       "      'width': 320},\n",
       "     {'height': 1137,\n",
       "      'url': 'https://preview.redd.it/yqhjbtm1f7s31.jpg?width=640&amp;crop=smart&amp;auto=webp&amp;s=1745e2688cb0774a74214a2788e2fc527b750532',\n",
       "      'width': 640}],\n",
       "    'source': {'height': 1280,\n",
       "     'url': 'https://preview.redd.it/yqhjbtm1f7s31.jpg?auto=webp&amp;s=1eb98412aef71672533c67bf9ebc29db116eb481',\n",
       "     'width': 720},\n",
       "    'variants': {}}]},\n",
       " 'pwls': 1,\n",
       " 'retrieved_on': 1570927019,\n",
       " 'score': 1,\n",
       " 'selftext': '',\n",
       " 'send_replies': True,\n",
       " 'spoiler': False,\n",
       " 'steward_reports': [],\n",
       " 'stickied': False,\n",
       " 'subreddit': 'Rateme',\n",
       " 'subreddit_id': 't5_2re84',\n",
       " 'subreddit_subscribers': 146223,\n",
       " 'subreddit_type': 'public',\n",
       " 'thumbnail': 'https://b.thumbs.redditmedia.com/CC3poSgsw8r6NTeRcOevViWDm6BndFmetroAjm24XQg.jpg',\n",
       " 'thumbnail_height': 140,\n",
       " 'thumbnail_width': 140,\n",
       " 'title': 'Hows my smile?',\n",
       " 'total_awards_received': 0,\n",
       " 'url': 'https://i.redd.it/yqhjbtm1f7s31.jpg',\n",
       " 'whitelist_status': 'house_only',\n",
       " 'wls': 1}"
      ]
     },
     "execution_count": 3,
     "metadata": {},
     "output_type": "execute_result"
    }
   ],
   "source": [
    "posts[0]"
   ]
  },
  {
   "cell_type": "code",
   "execution_count": 4,
   "metadata": {},
   "outputs": [
    {
     "data": {
      "text/plain": [
       "{'all_awardings': [],\n",
       " 'associated_award': None,\n",
       " 'author': 'Ipingpong1',\n",
       " 'author_flair_background_color': None,\n",
       " 'author_flair_css_class': None,\n",
       " 'author_flair_richtext': [],\n",
       " 'author_flair_template_id': None,\n",
       " 'author_flair_text': None,\n",
       " 'author_flair_text_color': None,\n",
       " 'author_flair_type': 'text',\n",
       " 'author_fullname': 't2_z9zyj',\n",
       " 'author_patreon_flair': False,\n",
       " 'awarders': [],\n",
       " 'body': 'If you can consistently smile like you did in that second picture you’re an easy 8',\n",
       " 'created_utc': 1570927355,\n",
       " 'gildings': {},\n",
       " 'id': 'f3hqvo0',\n",
       " 'is_submitter': False,\n",
       " 'link_id': 't3_dgzjxh',\n",
       " 'locked': False,\n",
       " 'no_follow': True,\n",
       " 'parent_id': 't3_dgzjxh',\n",
       " 'permalink': '/r/Rateme/comments/dgzjxh/21m/f3hqvo0/',\n",
       " 'retrieved_on': 1570927367,\n",
       " 'score': 1,\n",
       " 'send_replies': True,\n",
       " 'steward_reports': [],\n",
       " 'stickied': False,\n",
       " 'subreddit': 'Rateme',\n",
       " 'subreddit_id': 't5_2re84',\n",
       " 'total_awards_received': 0}"
      ]
     },
     "execution_count": 4,
     "metadata": {},
     "output_type": "execute_result"
    }
   ],
   "source": [
    "comments[0]"
   ]
  },
  {
   "cell_type": "code",
   "execution_count": 24,
   "metadata": {},
   "outputs": [],
   "source": [
    "import pandas as pd\n",
    "import matplotlib.pyplot as plt\n",
    "import seaborn as sns\n",
    "sns.set()"
   ]
  },
  {
   "cell_type": "code",
   "execution_count": 6,
   "metadata": {},
   "outputs": [],
   "source": [
    "from pandas.io.json import json_normalize"
   ]
  },
  {
   "cell_type": "code",
   "execution_count": 13,
   "metadata": {},
   "outputs": [],
   "source": [
    "df = json_normalize(posts)"
   ]
  },
  {
   "cell_type": "code",
   "execution_count": 20,
   "metadata": {},
   "outputs": [
    {
     "data": {
      "text/plain": [
       "count    79000.000000\n",
       "mean         8.011152\n",
       "std         20.913903\n",
       "min          0.000000\n",
       "25%          1.000000\n",
       "50%          2.000000\n",
       "75%          6.000000\n",
       "max        587.000000\n",
       "Name: num_comments, dtype: float64"
      ]
     },
     "execution_count": 20,
     "metadata": {},
     "output_type": "execute_result"
    }
   ],
   "source": [
    "df['num_comments'].describe()"
   ]
  },
  {
   "cell_type": "code",
   "execution_count": 28,
   "metadata": {},
   "outputs": [
    {
     "data": {
      "text/plain": [
       "<matplotlib.axes._subplots.AxesSubplot at 0x15f7e99d0>"
      ]
     },
     "execution_count": 28,
     "metadata": {},
     "output_type": "execute_result"
    },
    {
     "data": {
      "image/png": "[encoded data removed]",
      "text/plain": [
       "<Figure size 432x288 with 1 Axes>"
      ]
     },
     "metadata": {
      "needs_background": "light"
     },
     "output_type": "display_data"
    }
   ],
   "source": [
    "df['num_comments'].hist(bins=30, log=True)"
   ]
  },
  {
   "cell_type": "code",
   "execution_count": 29,
   "metadata": {},
   "outputs": [],
   "source": [
    "df.to_csv(\"../data/posts.csv\")"
   ]
  },
  {
   "cell_type": "code",
   "execution_count": 37,
   "metadata": {},
   "outputs": [
    {
     "data": {
      "text/plain": [
       "count    79000.000000\n",
       "mean        57.226000\n",
       "std         48.439328\n",
       "min          1.000000\n",
       "25%         24.000000\n",
       "50%         44.000000\n",
       "75%         76.000000\n",
       "max        311.000000\n",
       "Name: title, dtype: float64"
      ]
     },
     "execution_count": 37,
     "metadata": {},
     "output_type": "execute_result"
    }
   ],
   "source": [
    "df['title'].apply(lambda x: len(x)).describe()"
   ]
  },
  {
   "cell_type": "code",
   "execution_count": null,
   "metadata": {},
   "outputs": [],
   "source": [
    "def len_of_x(x):\n",
    "    return len(x) == 1"
   ]
  },
  {
   "cell_type": "code",
   "execution_count": 44,
   "metadata": {
    "collapsed": true
   },
   "outputs": [
    {
     "data": {
      "text/plain": [
       "?    12\n",
       ".     7\n",
       "A     4\n",
       "H     3\n",
       "B     3\n",
       "M     3\n",
       "Y     3\n",
       "R     3\n",
       "🖤     2\n",
       "🤔     2\n",
       "h     2\n",
       "😉     2\n",
       "K     2\n",
       "😳     1\n",
       "👋     1\n",
       "🙏     1\n",
       "G     1\n",
       "👤     1\n",
       "💖     1\n",
       "😈     1\n",
       "🙃     1\n",
       "#     1\n",
       "😶     1\n",
       "😥     1\n",
       "😊     1\n",
       "N     1\n",
       "😁     1\n",
       "💟     1\n",
       "l     1\n",
       "­     1\n",
       "🦔     1\n",
       "💘     1\n",
       "!     1\n",
       "Z     1\n",
       "🔥     1\n",
       "😕     1\n",
       "💜     1\n",
       "f     1\n",
       "s     1\n",
       "🤤     1\n",
       "😌     1\n",
       "2     1\n",
       "E     1\n",
       "Name: title, dtype: int64"
      ]
     },
     "execution_count": 44,
     "metadata": {},
     "output_type": "execute_result"
    }
   ],
   "source": [
    "df[ df['title'].apply(lambda x: len(x) == 1) ]['title'].value_counts()"
   ]
  },
  {
   "cell_type": "code",
   "execution_count": 45,
   "metadata": {},
   "outputs": [],
   "source": [
    "comment_df = json_normalize(comments)"
   ]
  },
  {
   "cell_type": "code",
   "execution_count": 52,
   "metadata": {},
   "outputs": [
    {
     "data": {
      "text/plain": [
       "66228"
      ]
     },
     "execution_count": 52,
     "metadata": {},
     "output_type": "execute_result"
    }
   ],
   "source": [
    "comment_df['author'].unique().size"
   ]
  },
  {
   "cell_type": "code",
   "execution_count": 53,
   "metadata": {},
   "outputs": [
    {
     "data": {
      "text/plain": [
       "620000"
      ]
     },
     "execution_count": 53,
     "metadata": {},
     "output_type": "execute_result"
    }
   ],
   "source": [
    "comment_df['author'].size"
   ]
  },
  {
   "cell_type": "code",
   "execution_count": 54,
   "metadata": {},
   "outputs": [
    {
     "data": {
      "text/plain": [
       "9.361599323548953"
      ]
     },
     "execution_count": 54,
     "metadata": {},
     "output_type": "execute_result"
    }
   ],
   "source": [
    "620000 / 66228"
   ]
  },
  {
   "cell_type": "code",
   "execution_count": 56,
   "metadata": {},
   "outputs": [],
   "source": [
    "author_counts = comment_df.groupby('author').agg('count')['author_fullname']"
   ]
  },
  {
   "cell_type": "code",
   "execution_count": 59,
   "metadata": {},
   "outputs": [
    {
     "data": {
      "text/plain": [
       "<matplotlib.axes._subplots.AxesSubplot at 0x196cfdf50>"
      ]
     },
     "execution_count": 59,
     "metadata": {},
     "output_type": "execute_result"
    },
    {
     "data": {
      "image/png": "[encoded data removed]",
      "text/plain": [
       "<Figure size 432x288 with 1 Axes>"
      ]
     },
     "metadata": {
      "needs_background": "light"
     },
     "output_type": "display_data"
    }
   ],
   "source": [
    "author_counts.hist(bins=30, log=True)"
   ]
  },
  {
   "cell_type": "code",
   "execution_count": 60,
   "metadata": {},
   "outputs": [
    {
     "data": {
      "text/plain": [
       "count    66228.000000\n",
       "mean         8.401341\n",
       "std        269.997964\n",
       "min          0.000000\n",
       "25%          1.000000\n",
       "50%          2.000000\n",
       "75%          5.000000\n",
       "max      68551.000000\n",
       "Name: author_fullname, dtype: float64"
      ]
     },
     "execution_count": 60,
     "metadata": {},
     "output_type": "execute_result"
    }
   ],
   "source": [
    "author_counts.describe()"
   ]
  },
  {
   "cell_type": "code",
   "execution_count": 65,
   "metadata": {},
   "outputs": [
    {
     "data": {
      "text/plain": [
       "<matplotlib.axes._subplots.AxesSubplot at 0x177997490>"
      ]
     },
     "execution_count": 65,
     "metadata": {},
     "output_type": "execute_result"
    },
    {
     "data": {
      "image/png": "[encoded data removed]",
      "text/plain": [
       "<Figure size 432x288 with 1 Axes>"
      ]
     },
     "metadata": {
      "needs_background": "light"
     },
     "output_type": "display_data"
    }
   ],
   "source": [
    "author_counts.drop('AutoModerator').hist(log=True, bins=30)"
   ]
  },
  {
   "cell_type": "code",
   "execution_count": 67,
   "metadata": {},
   "outputs": [
    {
     "name": "stderr",
     "output_type": "stream",
     "text": [
      "/Users/naitian/Documents/Projects/MDST/rateme/env/lib/python3.7/site-packages/ipykernel_launcher.py:1: FutureWarning: \n",
      "The current behaviour of 'Series.argmax' is deprecated, use 'idxmax'\n",
      "instead.\n",
      "The behavior of 'argmax' will be corrected to return the positional\n",
      "maximum in the future. For now, use 'series.values.argmax' or\n",
      "'np.argmax(np.array(values))' to get the position of the maximum\n",
      "row.\n",
      "  \"\"\"Entry point for launching an IPython kernel.\n"
     ]
    },
    {
     "data": {
      "text/plain": [
       "'ChickenXing'"
      ]
     },
     "execution_count": 67,
     "metadata": {},
     "output_type": "execute_result"
    }
   ],
   "source": [
    "author_counts.drop('AutoModerator').argmax()"
   ]
  },
  {
   "cell_type": "code",
   "execution_count": 77,
   "metadata": {},
   "outputs": [
    {
     "data": {
      "text/plain": [
       "625                 [F18] just curious + need some advice\n",
       "663     [19f] just looking for a face rating... thanks...\n",
       "664                 [F18] just curious + need some advice\n",
       "765                          [F 24] Thoughts on my style?\n",
       "768          [19f] hit me with your best shot and RATE ME\n",
       "773     [26F] Looking for advice on hairstyle/makeup t...\n",
       "780     (F21) Struggling with identity, blonde/brunett...\n",
       "789     [21F] Rate me (pics without makeup at end of i...\n",
       "798     [F21] Rate me on a scale from 1-10! Feel free ...\n",
       "800     [22F] All my best photos are ones that exclude...\n",
       "801     (F21) been in a bit of a rut lately, looking t...\n",
       "1842    [f24] ruthlessly rate me and tell me what plas...\n",
       "2036    [18F] Curious to know what the people of Reddi...\n",
       "2038    [19f] Non-binary femme, updated since i last p...\n",
       "2040    [23F] and genuinely curious about what people ...\n",
       "2042    (35F) just curious where I stand and what I ca...\n",
       "2048                 [F19] Just curious what people think\n",
       "2050    [21F] Posted on here 1+ year ago, followed som...\n",
       "2053        [18F] r/Rateme just curious what people think\n",
       "2811                                       [18F] Curious!\n",
       "2812    [F20] Top is no makeup, average day; bottom is...\n",
       "2813        18F! I just got bangs. Tell me what you think\n",
       "2814                                                [24F]\n",
       "2815    [24F] I’ve been described as having a good per...\n",
       "2817                                                 22F.\n",
       "2818    [20f] Putting myself out there in the dating w...\n",
       "2819    [24F] Just looking for an honest rating. Can't...\n",
       "2820    (21F) Hi Reddit! Can you please rate me (or my...\n",
       "2821    [22F] honest rating and any constructive feedb...\n",
       "3741                             18f rate/opinions please\n",
       "3743                 28F, curious as to what people think\n",
       "3902    [F22] I’m recently lost over 100lbs and I’m st...\n",
       "3912    18F I have always thought my teeth and left ey...\n",
       "3915                      [18F] brutal honesty is welcome\n",
       "3916                      [26F] Hi! I’m curious. Rate me!\n",
       "3918                                                  19F\n",
       "4557    [26F] I recently lost a lot of weight and I’m ...\n",
       "4559    [20F] Guys don’t seem to find me attractive. W...\n",
       "4560            [18F] Curious about the way people see me\n",
       "5128             [f18] Please be honest I’m j curious lol\n",
       "5130    (f20) i've changed a lot these past few months...\n",
       "5136        [20F] What do you guys think? :) Just curious\n",
       "5139    (18f) constructive criticism is welcome, but p...\n",
       "5142    (F18) my friends tell me I'm really pretty but...\n",
       "5144    [F23] Strong urge to dye my hair, help me pick...\n",
       "5146                      F19 give me the deets yalllllll\n",
       "5150                (21F) help me fuel my body dysmorphia\n",
       "5153               19F (reposted from another sub) go off\n",
       "6404     [25F] Know I'm not a 10, but what can I work on?\n",
       "6406    (f19) just got bangs and i don't know how to f...\n",
       "Name: link_id, dtype: object"
      ]
     },
     "execution_count": 77,
     "metadata": {},
     "output_type": "execute_result"
    }
   ],
   "source": [
    "comment_df[ comment_df['author'] == 'ChickenXing']['link_id'].head(50).apply(lambda lid: df[df['id'] == lid[3:]]['title'].to_numpy()[0])\n",
    "\n"
   ]
  },
  {
   "cell_type": "code",
   "execution_count": null,
   "metadata": {},
   "outputs": [],
   "source": []
  }
 ],
 "metadata": {
  "kernelspec": {
   "display_name": "Python 3",
   "language": "python",
   "name": "python3"
  },
  "language_info": {
   "codemirror_mode": {
    "name": "ipython",
    "version": 3
   },
   "file_extension": ".py",
   "mimetype": "text/x-python",
   "name": "python",
   "nbconvert_exporter": "python",
   "pygments_lexer": "ipython3",
   "version": "3.7.4"
  }
 },
 "nbformat": 4,
 "nbformat_minor": 2
}
